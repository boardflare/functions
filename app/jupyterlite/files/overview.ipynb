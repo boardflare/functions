{
 "cells": [
  {
   "cell_type": "markdown",
   "id": "a35eeb9f-df70-4ab1-a243-2d2025888eb0",
   "metadata": {},
   "source": [
    "# Python Functions\n",
    "\n",
    "We are in the process of building a repository of Python functions for common Excel tasks.  You can find a directory of available functions by task in the left navigation (e.g. [Fuzzy Match](https://www.boardflare.com/tasks/nlp/fuzzy-match#python-functions)).  The Python functions can be run in Excel using either the [BOARDFLARE.RUNPY()](https://www.boardflare.com/apps/excel/python) add-in function or the native [Excel PY()](https://support.microsoft.com/en-us/office/introduction-to-python-in-excel-55643c2e-ff56-4168-b1ce-9428c8308545) feature as noted.  See [Run Python Functions in Excel](#run-python-functions-in-excel) below for more details.\n",
    "\n",
    "## Run Python in Excel\n",
    "\n",
    "### Runtime Options\n",
    "\n",
    "Python functions can be run directly in Excel using either [Boardflare's Python for Excel](https://www.boardflare.com/apps/excel/python) add-in or [Microsoft's Python in Excel](https://support.microsoft.com/en-us/office/introduction-to-python-in-excel-55643c2e-ff56-4168-b1ce-9428c8308545).  The main differences between the two are outlined in the table below:\n",
    "\n",
    "| Feature            | `BOARDFLARE.RUNPY()`                                      | Excel `PY()`                                                                |\n",
    "|--------------------|---------------------------------------------------------|---------------------------------------------------------------------------|\n",
    "| Integration        | Excel function                                          | Special cell feature                                                      |\n",
    "| Usage              | Can be used in Excel formulas, such as LAMBDA functions | Interactive use, similar to Jupyter notebook.                             |\n",
    "| Data Reference     | Data passed as arguments to function                    | Cells are directly referenced in the Python code                          |\n",
    "| Example Use        | `=BOARDFLARE.RUNPY(\"arg1 + 2\", A4)`                     | `=PY(arg1 = xl(\"A4\"); arg1 + 2)`                                          |\n",
    "| Python Packages    | [Pyodide built-in packages](https://pyodide.org/en/stable/usage/packages-in-pyodide.html) and external pure-python | [Anaconda distribution packages](https://support.microsoft.com/en-us/office/open-source-libraries-and-python-in-excel-c817c897-41db-40a1-b9f3-d5ffe6d1bf3e) only. |\n",
    "| Processing         | Local in Excel add-in browser runtime                   | Microsoft cloud                                                           |\n",
    "| Network Access     | Network access for API calls, web scraping              | No network access allowed                                                 |\n",
    "| Platforms          | Excel for web and desktop (Windows/Mac)                 | Excel desktop only                                                        |\n",
    "| Pricing            | Free for base features                                  | Requires Microsoft 365 subscription                                       |\n",
    "\n",
    "Each tool has its own advantages and disadvantages depending on your use-case.  We have aligned the syntax of `BOARDFLARE.RUNPY` with the Excel `PY` cell feature to make it as easy as possible to re-use the same Python function code in either tool so you can choose the best tool for your needs.  For example, we also convert input arrays to pandas DataFrames by default, and return the last expression in the Python code as the result, just like the `PY` cell feature.\n",
    "\n",
    "Due to differences in packages supported in each Python enviroment, not all functions can be used in both, but wherever possible we have tried to implement functions that can be used in both environments.\n",
    "\n",
    "One of the key features of `BOARDFLARE.RUNPY` is its ability to be used in Excel formulas, such as a LAMBDA function, as discussed below.\n",
    "\n",
    "### Use in LAMBDA Functions\n",
    "\n",
    "For each Python functions that can be used in `BOARDFLARE.RUNPY`, we typically provide several [Excel LAMBDA](https://support.microsoft.com/en-us/office/lambda-function-bd212d27-1cd1-4321-a34a-ccbf254b8b67) functions which extend the Python function to provide additional convenience features,  address specialized use-cases, or just simplify use for end-users.\n",
    "\n",
    "For example, the Python `fuzzy_distance` function can be extended to create a `FUZZYMATCH.TD` LAMBDA function as follows:\n",
    "\n",
    "```excel\n",
    "=LAMBDA(lookup_value, lookup_array, [similarity_threshold], [algorithm],\n",
    "    LET(\n",
    "        threshold, IF(ISOMITTED(similarity_threshold), 0.7, similarity_threshold),\n",
    "        algo, IF(ISOMITTED(algorithm), \"jaccard\", algorithm),\n",
    "        result, BOARDFLARE.RUNPY(\"text/fuzzy/text_distance.ipynb\", lookup_value, lookup_array, algo),\n",
    "        index, INDEX(result, 1),\n",
    "        score, INDEX(result, 2),\n",
    "        IF(score >= threshold, index, \"No match\")\n",
    "    )\n",
    ")\n",
    "```\n",
    "\n",
    "This function can then be used as follows (e.g. assuming it is named `FUZZYMATCH.TD`):\n",
    "\n",
    "```excel\n",
    "=FUZZYMATCH.TD(A1, B1:B10)\n",
    "```\n",
    "\n",
    "To help reduce confusion, and in keeping with Python and Excel naming conventions, our Python function names are always lower case, e.g. `text_distance`, whereas Excel LAMBDA function names are always capitalized, e.g. `FUZZYMATCH.TD`.\n",
    "\n",
    "## Jupyterlite\n",
    "\n",
    "[Jupyterlite](https://jupyterlite.readthedocs.io/en/latest/) notebooks enable you to edit and run Python code in your web browser using the same [Pyodide](https://pyodide.org/en/stable/) Python runtime as the `BOARDFLARE.RUNPY` function in Excel, so any code that works here should work there🤞. If you are new to using Jupyter, check our their [documentation](https://jupyterlab.readthedocs.io/en/latest/user/notebook.html).\n",
    "\n",
    "Notebooks typically contains a single function, and are organized in folders by task.  You can find more details on the [functions](https://www.boardflare.com/tasks/functions) page of our website."
   ]
  },
  {
   "cell_type": "code",
   "execution_count": 1,
   "id": "78db95af",
   "metadata": {},
   "outputs": [],
   "source": [
    "# Set global variables as RUNPY does when passed scalar values.\n",
    "arg1 = 2\n",
    "arg2 = 3"
   ]
  },
  {
   "cell_type": "code",
   "execution_count": 2,
   "id": "4d2eb7c3",
   "metadata": {},
   "outputs": [
    {
     "data": {
      "text/plain": [
       "5"
      ]
     },
     "execution_count": 2,
     "metadata": {},
     "output_type": "execute_result"
    }
   ],
   "source": [
    "# Adds two numbers.\n",
    "def add_numbers(a, b):\n",
    "    return a + b\n",
    "\n",
    "add_numbers(arg1, arg2)"
   ]
  },
  {
   "cell_type": "code",
   "execution_count": 3,
   "id": "12e8c0f0",
   "metadata": {
    "tags": [
     "parameters"
    ]
   },
   "outputs": [],
   "source": [
    "# Set global variables as RUNPY does when passed array values.\n",
    "# Note the array will always be 2D, even if a single row or column.\n",
    "import pandas as pd\n",
    "arg1 = pd.DataFrame([[1, 2, 3]])\n",
    "arg2 = 3"
   ]
  },
  {
   "cell_type": "code",
   "execution_count": 4,
   "id": "b21eece7",
   "metadata": {},
   "outputs": [
    {
     "data": {
      "text/plain": [
       "[[4, 5, 6]]"
      ]
     },
     "execution_count": 4,
     "metadata": {},
     "output_type": "execute_result"
    }
   ],
   "source": [
    "# Converts arg1 to 2D list and add arg2 to each element\n",
    "def add_to_each_element(arg1, arg2):\n",
    "    return [[element + arg2 for element in row] for row in arg1.values.tolist()]\n",
    "\n",
    "add_to_each_element(arg1, arg2)"
   ]
  },
  {
   "cell_type": "code",
   "execution_count": 5,
   "id": "463511da",
   "metadata": {},
   "outputs": [
    {
     "data": {
      "text/plain": [
       "[[4, 5, 6]]"
      ]
     },
     "execution_count": 5,
     "metadata": {},
     "output_type": "execute_result"
    }
   ],
   "source": [
    "# Uses numpy to add do the same operation as above.\n",
    "import numpy as np\n",
    "\n",
    "# Define function to add two numbers using numpy and call it.\n",
    "def add_numbers_np(a, b):\n",
    "    sum = np.add(a, b).values.tolist()\n",
    "    return sum\n",
    "\n",
    "add_numbers_np(arg1, arg2)"
   ]
  },
  {
   "cell_type": "code",
   "execution_count": 6,
   "id": "139c1201",
   "metadata": {},
   "outputs": [
    {
     "data": {
      "text/html": [
       "<div>\n",
       "<style scoped>\n",
       "    .dataframe tbody tr th:only-of-type {\n",
       "        vertical-align: middle;\n",
       "    }\n",
       "\n",
       "    .dataframe tbody tr th {\n",
       "        vertical-align: top;\n",
       "    }\n",
       "\n",
       "    .dataframe thead th {\n",
       "        text-align: right;\n",
       "    }\n",
       "</style>\n",
       "<table border=\"1\" class=\"dataframe\">\n",
       "  <thead>\n",
       "    <tr style=\"text-align: right;\">\n",
       "      <th></th>\n",
       "      <th>0</th>\n",
       "      <th>1</th>\n",
       "      <th>2</th>\n",
       "    </tr>\n",
       "  </thead>\n",
       "  <tbody>\n",
       "    <tr>\n",
       "      <th>0</th>\n",
       "      <td>25.4</td>\n",
       "      <td>50.8</td>\n",
       "      <td>76.2</td>\n",
       "    </tr>\n",
       "  </tbody>\n",
       "</table>\n",
       "</div>"
      ],
      "text/plain": [
       "      0     1     2\n",
       "0  25.4  50.8  76.2"
      ]
     },
     "execution_count": 6,
     "metadata": {},
     "output_type": "execute_result"
    }
   ],
   "source": [
    "# Function to convert inches to mm.\n",
    "def inches_to_mm(inches):\n",
    "    return inches * 25.4\n",
    "\n",
    "inches_to_mm(arg1)"
   ]
  }
 ],
 "metadata": {
  "kernelspec": {
   "display_name": "venv",
   "language": "python",
   "name": "python3"
  },
  "language_info": {
   "codemirror_mode": {
    "name": "ipython",
    "version": 3
   },
   "file_extension": ".py",
   "mimetype": "text/x-python",
   "name": "python",
   "nbconvert_exporter": "python",
   "pygments_lexer": "ipython3",
   "version": "3.12.6"
  }
 },
 "nbformat": 4,
 "nbformat_minor": 5
}
