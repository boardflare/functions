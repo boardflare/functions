{
 "cells": [
  {
   "cell_type": "markdown",
   "metadata": {},
   "source": [
    "# `nltk_distance`\n",
    "\n",
    "## Overview\n",
    "The `nltk_distance` Python function uses the [NLTK library](https://www.nltk.org/) to calculate similarity scores between strings, returns an array containing the match index and similarity score.\n",
    "\n",
    "| Task | Description | Boardflare RUNPY() | Excel PY() | Source in Jupyter | Demo Workbook |\n",
    "|:----:|:------------|:-------:|:----------:|:-------:|:-------:|\n",
    "| [Fuzzy Matching](https://www.boardflare.com/tasks/nlp/fuzzy-match) | Uses [`nltk`](https://github.com/nltk/nltk) library for similarity scoring with `jaccard`, `jaro`, and `levenshtein`. | ✅ | ✅ | [Open](https://addins.boardflare.com/functions/prod/jupyterlite/lab/index.html?path=text/fuzzy-match/nltk_distance.ipynb) | [Open](https://whistlernetworks.sharepoint.com/:x:/s/Boardflare/Eb_nCI4mR6tImGx_S1hPVs8B4UYmrJRrkk0_Grai6A4adg?e=xfUuNQ) |\n",
    "\n",
    "## Usage\n",
    "\n",
    "Compares `lookup_value` with each value in the `lookup_array` and returns the index of the closest match and a normalized similarity score (within a given algorithm) between 0 and 1 (higher is more similar)\n",
    "\n",
    "```python\n",
    "nltk_distance(lookup_value, lookup_array, algorithm)\n",
    "```\n",
    "\n",
    "Arguments:\n",
    "\n",
    "| Argument        | Positional | Type           | Description                                                    |\n",
    "|-----------------|------------|----------------|----------------------------------------------------------------|\n",
    "| `lookup_value`  | arg1       | string or list | The string(s) to look up matches for                           |\n",
    "| `lookup_array`  | arg2       | list           | Array of strings to search through for matches                 |\n",
    "| `algorithm`     | arg3       | string         | The similarity algorithm to use (e.g. \"jaccard\", \"levenshtein\") |\n",
    "\n",
    "Returns a list of lists containing the match results. Each inner list contains:\n",
    "\n",
    "| Return Value | Type  | Description                                                         |\n",
    "|--------------|-------|---------------------------------------------------------------------|\n",
    "| Index        | int   | Index of the closest matching string (1-based)                      |\n",
    "| Similarity   | float | Similarity score between 0-1 (higher = more similar)                |\n",
    "\n",
    "### BOARDFLARE.RUNPY\n",
    "\n",
    "```excel\n",
    "=BOARDFLARE.RUNPY(\"text/fuzzy-match/nltk_distance.ipynb\", lookup_value, lookup_array, algorithm)\n",
    "```\n",
    "\n",
    "Example usage to find closest match for a string:\n",
    "\n",
    "```excel\n",
    "=BOARDFLARE.RUNPY(\"text/fuzzy-match/nltk_distance.ipynb\", \"example\", {\"sample\",\"test\",\"example\"}, \"jaccard\")\n",
    "```"
   ]
  },
  {
   "cell_type": "code",
   "execution_count": 14,
   "metadata": {},
   "outputs": [
    {
     "name": "stdout",
     "output_type": "stream",
     "text": [
      "Requirement already satisfied: nltk in c:\\users\\brent\\code\\functions\\venv\\lib\\site-packages (3.9.1)Note: you may need to restart the kernel to use updated packages.\n",
      "\n",
      "Requirement already satisfied: click in c:\\users\\brent\\code\\functions\\venv\\lib\\site-packages (from nltk) (8.1.7)\n",
      "Requirement already satisfied: joblib in c:\\users\\brent\\code\\functions\\venv\\lib\\site-packages (from nltk) (1.4.2)\n",
      "Requirement already satisfied: regex>=2021.8.3 in c:\\users\\brent\\code\\functions\\venv\\lib\\site-packages (from nltk) (2024.9.11)\n",
      "Requirement already satisfied: tqdm in c:\\users\\brent\\code\\functions\\venv\\lib\\site-packages (from nltk) (4.66.6)\n",
      "Requirement already satisfied: colorama in c:\\users\\brent\\code\\functions\\venv\\lib\\site-packages (from click->nltk) (0.4.6)\n"
     ]
    },
    {
     "data": {
      "text/plain": [
       "'[[\"sample\"], [\"exemplary\"], [\"sampler\"], [\"example\"]]'"
      ]
     },
     "execution_count": 14,
     "metadata": {},
     "output_type": "execute_result"
    }
   ],
   "source": [
    "%pip install nltk\n",
    "import pandas as pd\n",
    "import json\n",
    "\n",
    "# Setup globals similar to RUNPY function.\n",
    "# Arrays must be in pandas DataFrame.\n",
    "arg1 = pd.DataFrame([\"sample\", \"exemplary\", \"sampler\", \"example\"], columns=['needles'])\n",
    "arg2 = pd.DataFrame([\"samples\", \"exemplar\", \"sample\", \"examples\"], columns=['haystack'])\n",
    "arg3 = 'jaccard'\n"
   ]
  },
  {
   "cell_type": "code",
   "execution_count": 20,
   "metadata": {
    "tags": [
     "arg1"
    ]
   },
   "outputs": [
    {
     "data": {
      "text/plain": [
       "'[[\"sample\"], [\"exemplary\"], [\"sampler\"], [\"example\"]]'"
      ]
     },
     "execution_count": 20,
     "metadata": {},
     "output_type": "execute_result"
    }
   ],
   "source": [
    "# Convert arg1 DataFrame 'needles' column to nested list and output as JSON\n",
    "nested_list = [[word] for word in arg1['needles'].values.tolist()]\n",
    "json.dumps(nested_list)"
   ]
  },
  {
   "cell_type": "code",
   "execution_count": 15,
   "metadata": {
    "tags": [
     "arg2"
    ]
   },
   "outputs": [
    {
     "data": {
      "text/plain": [
       "'[[\"samples\"], [\"exemplar\"], [\"sample\"], [\"examples\"]]'"
      ]
     },
     "execution_count": 15,
     "metadata": {},
     "output_type": "execute_result"
    }
   ],
   "source": [
    "nested_list = [[word] for word in arg2['haystack'].values.tolist()]\n",
    "json.dumps(nested_list)"
   ]
  },
  {
   "cell_type": "code",
   "execution_count": 16,
   "metadata": {
    "tags": [
     "arg3"
    ]
   },
   "outputs": [
    {
     "data": {
      "text/plain": [
       "'jaccard'"
      ]
     },
     "execution_count": 16,
     "metadata": {},
     "output_type": "execute_result"
    }
   ],
   "source": [
    "arg3"
   ]
  },
  {
   "cell_type": "code",
   "execution_count": 17,
   "metadata": {
    "tags": [
     "function"
    ]
   },
   "outputs": [
    {
     "data": {
      "text/plain": [
       "[[3, 1.0], [2, 0.88], [3, 0.83], [4, 0.86]]"
      ]
     },
     "execution_count": 17,
     "metadata": {},
     "output_type": "execute_result"
    }
   ],
   "source": [
    "import pandas as pd\n",
    "import nltk\n",
    "from nltk.metrics.distance import edit_distance, jaccard_distance, jaro_similarity\n",
    "from nltk.util import ngrams\n",
    "\n",
    "def nltk_distance(needle, haystack_df, algorithm='jaccard'):\n",
    "    \"\"\"\n",
    "    Calculate the similarity between a needle and a haystack using various distance algorithms.\n",
    "\n",
    "    Parameters:\n",
    "    needle (str or pd.DataFrame): The string or DataFrame to search for.\n",
    "    haystack_df (pd.DataFrame): The DataFrame to search within.\n",
    "    algorithm (str): The algorithm to use for calculating similarity. Options are 'levenshtein', 'jaccard', and 'jaro'. Default is 'jaccard'.\n",
    "\n",
    "    Returns:\n",
    "    list: A list of lists where each sublist contains the index (1-based) and the similarity score of the most similar item in the haystack.\n",
    "    \"\"\"\n",
    "    # Define a dictionary to map algorithm names to functions\n",
    "    algo_funcs = {\n",
    "        'levenshtein': lambda x, y: 1 - edit_distance(x, y) / max(len(x), len(y)),\n",
    "        'jaccard': lambda x, y: 1 - jaccard_distance(set(ngrams(x, 2)), set(ngrams(y, 2))),\n",
    "        'jaro': jaro_similarity\n",
    "    }\n",
    "    \n",
    "    # Get the algorithm function from the dictionary\n",
    "    algo_func = algo_funcs.get(algorithm)\n",
    "    if algo_func is None:\n",
    "        raise ValueError(f\"Unsupported algorithm: {algorithm}\")\n",
    "    \n",
    "    # Flatten the DataFrame to a list\n",
    "    haystack = haystack_df.values.flatten().tolist()\n",
    "    \n",
    "    # Check if needle is a DataFrame\n",
    "    if isinstance(needle, pd.DataFrame):\n",
    "        needle_list = needle.values.flatten().tolist()\n",
    "    else:\n",
    "        needle_list = [needle]\n",
    "    \n",
    "    results = [] \n",
    "    for needle_item in needle_list:\n",
    "        # Calculate similarity scores and round to 2 decimal places\n",
    "        scores = [(index + 1, round(algo_func(needle_item, item), 2)) for index, item in enumerate(haystack)]\n",
    "        \n",
    "        # Sort based on scores in descending order\n",
    "        scores.sort(key=lambda x: x[1], reverse=True)\n",
    "        # Append the top index and score to results as a list\n",
    "        results.append(list(scores[0]))\n",
    "\n",
    "    # results is 2D list, e.g. [[1, 0.75], [2, 0.85]]\n",
    "    return results\n",
    "\n",
    "nltk_distance(arg1, arg2, arg3)"
   ]
  },
  {
   "cell_type": "code",
   "execution_count": 18,
   "metadata": {
    "tags": [
     "headers"
    ]
   },
   "outputs": [
    {
     "data": {
      "text/plain": [
       "'[\"Lookup_Value(arg1)\", \"Lookup_Array(arg2)\", \"Algorithm(arg3)\", \"Index\", \"Similarity_Score\"]'"
      ]
     },
     "execution_count": 18,
     "metadata": {},
     "output_type": "execute_result"
    }
   ],
   "source": [
    "# Column headers to use in demo workbook.\n",
    "headers = [\"Lookup_Value(arg1)\", \"Lookup_Array(arg2)\", \"Algorithm(arg3)\", \"Index\", \"Similarity_Score\"]\n",
    "json.dumps(headers)"
   ]
  },
  {
   "cell_type": "code",
   "execution_count": 19,
   "metadata": {},
   "outputs": [
    {
     "data": {
      "text/plain": [
       "[['Algorithm', 'Closest Match', 'Score'],\n",
       " ['jaccard', 1, 0.83],\n",
       " ['levenshtein', 1, 0.86],\n",
       " ['jaro', 1, 0.95]]"
      ]
     },
     "execution_count": 19,
     "metadata": {},
     "output_type": "execute_result"
    }
   ],
   "source": [
    "# List of algorithms to test\n",
    "algorithms = ['jaccard', 'levenshtein', 'jaro']\n",
    "\n",
    "# Example needle and haystack DataFrame\n",
    "needle = \"sampler\"\n",
    "haystack_df = pd.DataFrame([\"sample\", \"example\", \"sampling\", \"test\"])\n",
    "\n",
    "# Calculate results for each algorithm\n",
    "results = [['Algorithm', 'Closest Match', 'Score']]\n",
    "for algo in algorithms:\n",
    "    match, score = nltk_distance(needle, haystack_df, algo)[0]\n",
    "    results.append([algo, match, float(score)])\n",
    "\n",
    "# Return results as a nested list with headers\n",
    "results"
   ]
  }
 ],
 "metadata": {
  "kernelspec": {
   "display_name": "venv",
   "language": "python",
   "name": "python3"
  },
  "language_info": {
   "codemirror_mode": {
    "name": "ipython",
    "version": 3
   },
   "file_extension": ".py",
   "mimetype": "text/x-python",
   "name": "python",
   "nbconvert_exporter": "python",
   "pygments_lexer": "ipython3",
   "version": "3.12.6"
  }
 },
 "nbformat": 4,
 "nbformat_minor": 2
}
