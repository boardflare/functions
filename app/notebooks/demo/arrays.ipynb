{
 "cells": [
  {
   "cell_type": "code",
   "execution_count": 7,
   "metadata": {},
   "outputs": [],
   "source": [
    "import sys\n",
    "import os\n",
    "\n",
    "# Add notebooks directory to Python path\n",
    "notebook_dir = os.path.abspath(os.path.join(os.getcwd(), '..'))\n",
    "if notebook_dir not in sys.path:\n",
    "    sys.path.append(notebook_dir)\n",
    "\n",
    "from test_utils import run_tests"
   ]
  },
  {
   "cell_type": "code",
   "execution_count": 8,
   "metadata": {},
   "outputs": [
    {
     "name": "stdout",
     "output_type": "stream",
     "text": [
      "Running 3 test cases for calculate_areas\n",
      "=====================================\n",
      "Case 1: [[[5, 4], [2.5, 4], [10, 10], [1, 1], [0.5, 2]]] ->     Area\n",
      "0   20.0\n",
      "1   10.0\n",
      "2  100.0\n",
      "3    1.0\n",
      "4    1.0\n",
      "Case 2: [[[1, 1]]] ->    Area\n",
      "0     1\n",
      "Case 3 failed: too many indices for array: array is 1-dimensional, but 2 were indexed\n"
     ]
    }
   ],
   "source": [
    "import pandas as pd\n",
    "import numpy as np\n",
    "\n",
    "def calculate_areas(rectangles):\n",
    "    \"\"\"Calculate areas for multiple rectangles.\n",
    "    Args:\n",
    "        rectangles (list): 2D list of [length, width] pairs\n",
    "    Returns:\n",
    "        pd.DataFrame: DataFrame with calculated areas\n",
    "    \"\"\"\n",
    "    rect_array = np.array(rectangles)\n",
    "    areas = rect_array[:, 0] * rect_array[:, 1]\n",
    "    return pd.DataFrame(areas, columns=['Area'])\n",
    "\n",
    "# Test cases demonstrating various rectangle sizes\n",
    "test_cases = [\n",
    "    [[[5, 4], [2.5, 4], [10, 10], [1, 1], [0.5, 2]]], # Basic rectangles\n",
    "    [[[1, 1]]], # Single rectangle\n",
    "    [[]] # Empty input\n",
    "]\n",
    "\n",
    "# Excel usage: =CALCULATE_AREAS({5,4;2.5,4;10,10;1,1;0.5,2})\n",
    "# Excel array format: {length1,width1;length2,width2;...}\n",
    "\n",
    "run_tests(calculate_areas, test_cases)"
   ]
  },
  {
   "cell_type": "code",
   "execution_count": 9,
   "metadata": {},
   "outputs": [
    {
     "name": "stdout",
     "output_type": "stream",
     "text": [
      "Running 3 test cases for detect_anomaly\n",
      "=====================================\n",
      "Case 1: [[[2.0], [2.1], [2.2], [2.0], [2.15], [2.08], [8.0], [2.1], [1.0]], 2.0] -> [[False], [False], [False], [False], [False], [False], [True], [False], [False]]\n",
      "Case 2: [[[1.0], [1.1], [1.0], [1.2], [5.0]], 2.0] -> [[False], [False], [False], [False], [False]]\n",
      "Case 3: [[], 2.0] -> []\n"
     ]
    }
   ],
   "source": [
    "def detect_anomaly(data, threshold):\n",
    "    \"\"\"Detects anomalies in a 2D list (single column) using z-score threshold method.\n",
    "    \n",
    "    Calculates z-scores for each value and flags those exceeding the threshold\n",
    "    as anomalies. Z-score = (x - mean) / standard_deviation\n",
    "    \n",
    "    Args:\n",
    "        data (List[List[float]]): Single column of values in 2D format [[val1], [val2], ...]\n",
    "        threshold (float): Z-score threshold above which values are considered anomalies\n",
    "        \n",
    "    Returns:\n",
    "        List[List[bool]]: Matching 2D format with True for anomalies [[bool1], [bool2], ...]\n",
    "        \n",
    "    Example:\n",
    "        >>> detect_anomaly([[1.0], [1.1], [5.0], [0.9]], 2.0)\n",
    "        [[False], [False], [True], [False]]\n",
    "    \"\"\"\n",
    "    if not data:\n",
    "        return []\n",
    "    \n",
    "    values = [row[0] for row in data]\n",
    "    mean = sum(values) / len(values)\n",
    "    std_dev = (sum((x - mean) ** 2 for x in values) / len(values)) ** 0.5\n",
    "    anomalies = [[abs((x[0] - mean) / std_dev) > threshold] for x in data]\n",
    "    return anomalies\n",
    "\n",
    "# Test cases demonstrating different scenarios\n",
    "test_cases = [\n",
    "    [\n",
    "        [[2.0], [2.1], [2.2], [2.0], [2.15], [2.08], [8.0], [2.1], [1.0]], # Normal data with outliers\n",
    "        2.0\n",
    "    ],\n",
    "    [\n",
    "        [[1.0], [1.1], [1.0], [1.2], [5.0]], # Small dataset with one obvious outlier\n",
    "        2.0\n",
    "    ],\n",
    "    [\n",
    "        [], # Empty dataset\n",
    "        2.0\n",
    "    ]\n",
    "]\n",
    "\n",
    "# Excel usage: =DETECT_ANOMALY({2;2.1;2.2;8;1.5}, 2)\n",
    "# First argument: Array constant with values {val1;val2;val3;...}\n",
    "# Second argument: Z-score threshold (typically 2.0 or 3.0)\n",
    "\n",
    "run_tests(detect_anomaly, test_cases)"
   ]
  },
  {
   "cell_type": "code",
   "execution_count": 10,
   "metadata": {},
   "outputs": [
    {
     "name": "stdout",
     "output_type": "stream",
     "text": [
      "Running 4 test cases for calculate_average\n",
      "=====================================\n",
      "Case 1: [[1, 2, 3, 4, 5]] -> 3.0\n",
      "Case 2: [[1.5, 2.5, 3.5]] -> 2.5\n",
      "Case 3: [[]] -> 0.0\n",
      "Case 4: [[10]] -> 10.0\n"
     ]
    }
   ],
   "source": [
    "from typing import List, Union\n",
    "\n",
    "def calculate_average(numbers: List[Union[int, float]]) -> float:\n",
    "    \"\"\"\n",
    "    Calculate the average of a list of numbers.\n",
    "\n",
    "    Args:\n",
    "    numbers (List[Union[int, float]]): A list of integers or floats.\n",
    "\n",
    "    Returns:\n",
    "    float: The average of the numbers.\n",
    "    \"\"\"\n",
    "    if not numbers:\n",
    "        return 0.0\n",
    "    return sum(numbers) / len(numbers)\n",
    "\n",
    "# Test cases demonstrating different scenarios\n",
    "test_cases = [\n",
    "    [[1, 2, 3, 4, 5]], # Basic integers\n",
    "    [[1.5, 2.5, 3.5]], # Floating point numbers\n",
    "    [[]], # Empty list\n",
    "    [[10]] # Single number\n",
    "]\n",
    "\n",
    "# Excel usage: =CALCULATE_AVERAGE({1;2;3;4;5})\n",
    "\n",
    "run_tests(calculate_average, test_cases)"
   ]
  }
 ],
 "metadata": {
  "kernelspec": {
   "display_name": "venv",
   "language": "python",
   "name": "python3"
  },
  "language_info": {
   "name": "python",
   "version": "3.12.6"
  }
 },
 "nbformat": 4,
 "nbformat_minor": 2
}
