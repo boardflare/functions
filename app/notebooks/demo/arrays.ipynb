{
 "cells": [
  {
   "cell_type": "code",
   "execution_count": null,
   "metadata": {},
   "outputs": [],
   "source": [
    "import sys\n",
    "import os\n",
    "\n",
    "# Add notebooks directory to Python path\n",
    "notebook_dir = os.path.abspath(os.path.join(os.getcwd(), '..'))\n",
    "if notebook_dir not in sys.path:\n",
    "    sys.path.append(notebook_dir)\n",
    "\n",
    "from test_utils import run_tests"
   ]
  },
  {
   "cell_type": "code",
   "execution_count": null,
   "metadata": {},
   "outputs": [],
   "source": [
    "import pandas as pd\n",
    "import numpy as np\n",
    "\n",
    "def calculate_areas(rectangles):\n",
    "    \"\"\"Calculate areas for multiple rectangles.\n",
    "    Args:\n",
    "        rectangles (list): 2D list of [length, width] pairs\n",
    "    Returns:\n",
    "        pd.DataFrame: DataFrame with calculated areas\n",
    "    \"\"\"\n",
    "    rect_array = np.array(rectangles)\n",
    "    areas = rect_array[:, 0] * rect_array[:, 1]\n",
    "    return pd.DataFrame(areas, columns=['Area'])\n",
    "\n",
    "# Typical 2D list input from Excel range.\n",
    "test_cases = [\n",
    "    [[[5, 4], [2.5, 4], [10, 10], [1, 1], [0.5, 2]]]\n",
    "]\n",
    "\n",
    "# Excel usage: =CALCULATE_AREAS({5,4;2.5,4;10,10;1,1;0.5,2})\n",
    "\n",
    "run_tests(calculate_areas, test_cases)"
   ]
  }
 ],
 "metadata": {
  "language_info": {
   "name": "python"
  }
 },
 "nbformat": 4,
 "nbformat_minor": 2
}
