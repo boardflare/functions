{
    "cells": [
        {
            "cell_type": "markdown",
            "id": "2ebf5cd8",
            "metadata": {},
            "source": [
                "Some markdown"
            ]
        },
        {
            "cell_type": "code",
            "execution_count": 1,
            "id": "8384688e",
            "metadata": {
                "tags": [
                    "Runner"
                ]
            },
            "outputs": [],
            "source": [
                "def run_tests(func, test_cases):\n",
                "    for i, args in enumerate(test_cases):\n",
                "        result = func(*args)\n",
                "        print(f\"Case {i+1}: {args} -> {result}\")"
            ]
        },
        {
            "cell_type": "code",
            "execution_count": 2,
            "id": "90b10933",
            "metadata": {},
            "outputs": [
                {
                    "name": "stdout",
                    "output_type": "stream",
                    "text": [
                        "Case 1: ['I love this product!'] -> 0.6696\n",
                        "Case 2: ['This is terrible.'] -> -0.4767\n",
                        "Case 3: ['The weather is nice today.'] -> 0.4215\n",
                        "Case 4: ['I am so angry right now!'] -> -0.5974\n",
                        "Case 5: ['This seems neutral.'] -> 0.0\n"
                    ]
                },
                {
                    "name": "stderr",
                    "output_type": "stream",
                    "text": [
                        "[nltk_data] Downloading package vader_lexicon to\n",
                        "[nltk_data]     C:\\Users\\brent\\AppData\\Roaming\\nltk_data...\n",
                        "[nltk_data]   Package vader_lexicon is already up-to-date!\n"
                    ]
                }
            ],
            "source": [
                "import nltk\n",
                "from nltk.sentiment import SentimentIntensityAnalyzer\n",
                "\n",
                "# Ensure you have downloaded the necessary NLTK data\n",
                "nltk.download('vader_lexicon')\n",
                "\n",
                "def sentiment_analysis(text):\n",
                "    \"\"\"Analyzes sentiment of text.\n",
                "    Args:\n",
                "        text (str): Text to analyze\n",
                "    Returns:\n",
                "        float: Compound sentiment score (-1 to 1)\n",
                "    \"\"\"\n",
                "    sia = SentimentIntensityAnalyzer()\n",
                "    sentiment = sia.polarity_scores(text)\n",
                "    return sentiment['compound']\n",
                "\n",
                "test_cases = [\n",
                "    [\"I love this product!\"],           # -> positive score\n",
                "    [\"This is terrible.\"],              # -> negative score\n",
                "    [\"The weather is nice today.\"],     # -> slightly positive\n",
                "    [\"I am so angry right now!\"],       # -> negative score\n",
                "    [\"This seems neutral.\"]             # -> neutral score\n",
                "]\n",
                "\n",
                "# Excel demo: =SENTIMENT_ANALYSIS(\"I love this product!\")\n",
                "\n",
                "run_tests(sentiment_analysis, test_cases)"
            ]
        },
        {
            "cell_type": "code",
            "execution_count": 3,
            "id": "2da63f89",
            "metadata": {},
            "outputs": [
                {
                    "name": "stdout",
                    "output_type": "stream",
                    "text": [
                        "Case 1: ['Hello world. This is a test.'] -> ['Hello world.', 'This is a test.']\n",
                        "Case 2: ['Dr. Smith went to Washington. He enjoyed his trip.'] -> ['Dr. Smith went to Washington.', 'He enjoyed his trip.']\n",
                        "Case 3: ['The U.S.A. is a country. It is located in North America.'] -> ['The U.S.A. is a country.', 'It is located in North America.']\n",
                        "Case 4: ['Wait... What just happened?'] -> ['Wait... What just happened?']\n",
                        "Case 5: [\"Prof. John said, 'This is a complex sentence structure.' And he was right.\"] -> [\"Prof. John said, 'This is a complex sentence structure.'\", 'And he was right.']\n",
                        "Case 6: ['E.g., this is an example sentence. It should be split correctly.'] -> ['E.g., this is an example sentence.', 'It should be split correctly.']\n"
                    ]
                },
                {
                    "name": "stderr",
                    "output_type": "stream",
                    "text": [
                        "[nltk_data] Downloading package punkt to\n",
                        "[nltk_data]     C:\\Users\\brent\\AppData\\Roaming\\nltk_data...\n",
                        "[nltk_data]   Package punkt is already up-to-date!\n"
                    ]
                }
            ],
            "source": [
                "import nltk\n",
                "from nltk.tokenize import sent_tokenize\n",
                "\n",
                "# Ensure you have downloaded the necessary NLTK data\n",
                "nltk.download('punkt')\n",
                "\n",
                "def split_into_sentences(text):\n",
                "    \"\"\"Split text into sentences.\n",
                "    Args:\n",
                "        text (str): Text to split\n",
                "    Returns:\n",
                "        list: List of sentences\n",
                "    \"\"\"\n",
                "    sentences = sent_tokenize(text)\n",
                "    return sentences\n",
                "\n",
                "test_cases = [\n",
                "    [\"Hello world. This is a test.\"],\n",
                "    [\"Dr. Smith went to Washington. He enjoyed his trip.\"],\n",
                "    [\"The U.S.A. is a country. It is located in North America.\"],\n",
                "    [\"Wait... What just happened?\"],\n",
                "    [\"Prof. John said, 'This is a complex sentence structure.' And he was right.\"],\n",
                "    [\"E.g., this is an example sentence. It should be split correctly.\"],\n",
                "]\n",
                "\n",
                "# Excel demo: =SPLIT_INTO_SENTENCES(\"Prof. John said, 'This is a complex sentence structure.' And he was right.\")\n",
                "\n",
                "run_tests(split_into_sentences, test_cases)"
            ]
        },
        {
            "cell_type": "code",
            "execution_count": 4,
            "id": "calculate-area",
            "metadata": {},
            "outputs": [
                {
                    "name": "stdout",
                    "output_type": "stream",
                    "text": [
                        "Case 1: [5, 4] -> 20\n",
                        "Case 2: [2.5, 4] -> 10.0\n",
                        "Case 3: [10, 10] -> 100\n",
                        "Case 4: [1, 1] -> 1\n",
                        "Case 5: [0.5, 2] -> 1.0\n"
                    ]
                }
            ],
            "source": [
                "def calculate_area(length, width):\n",
                "    \"\"\"Calculate area of rectangle.\n",
                "    Args:\n",
                "        length (float): Length of rectangle\n",
                "        width (float): Width of rectangle\n",
                "    Returns:\n",
                "        float: Area of rectangle\n",
                "    \"\"\"\n",
                "    return length * width\n",
                "\n",
                "test_cases = [\n",
                "    [5, 4],      # -> 20\n",
                "    [2.5, 4],    # -> 10\n",
                "    [10, 10],    # -> 100\n",
                "    [1, 1],      # -> 1\n",
                "    [0.5, 2]     # -> 1\n",
                "]\n",
                "\n",
                "# Excel demo: =CALCULATE_AREA(5, 4)\n",
                "\n",
                "run_tests(calculate_area, test_cases)"
            ]
        },
        {
            "cell_type": "code",
            "execution_count": 5,
            "id": "join-strings",
            "metadata": {},
            "outputs": [
                {
                    "name": "stdout",
                    "output_type": "stream",
                    "text": [
                        "Case 1: ['hello', 'world', ' '] -> hello world\n",
                        "Case 2: ['first', 'last', '-'] -> first-last\n",
                        "Case 3: ['a', 'b', '_'] -> a_b\n",
                        "Case 4: ['python', 'code', '::'] -> python::code\n",
                        "Case 5: ['x', 'y', ''] -> xy\n"
                    ]
                }
            ],
            "source": [
                "def join_strings(first_str, second_str, separator):\n",
                "    \"\"\"Join two strings with a separator.\n",
                "    Args:\n",
                "        first_str (str): First string\n",
                "        second_str (str): Second string\n",
                "        separator (str): Separator between strings\n",
                "    Returns:\n",
                "        str: Joined string\n",
                "    \"\"\"\n",
                "    return f\"{first_str}{separator}{second_str}\"\n",
                "\n",
                "test_cases = [\n",
                "    [\"hello\", \"world\", \" \"],      # -> \"hello world\"\n",
                "    [\"first\", \"last\", \"-\"],       # -> \"first-last\"\n",
                "    [\"a\", \"b\", \"_\"],             # -> \"a_b\"\n",
                "    [\"python\", \"code\", \"::\"],     # -> \"python::code\"\n",
                "    [\"x\", \"y\", \"\"]               # -> \"xy\"\n",
                "]\n",
                "\n",
                "# Excel demo: =JOIN_STRINGS(\"hello\", \"world\", \" \")\n",
                "\n",
                "run_tests(join_strings, test_cases)"
            ]
        },
        {
            "cell_type": "code",
            "execution_count": 6,
            "id": "in-range",
            "metadata": {},
            "outputs": [
                {
                    "name": "stdout",
                    "output_type": "stream",
                    "text": [
                        "Case 1: [5, 0, 10] -> True\n",
                        "Case 2: [-1, 0, 100] -> False\n",
                        "Case 3: [50, 50, 50] -> True\n",
                        "Case 4: [25, 0, 20] -> False\n",
                        "Case 5: [3.14, 3, 4] -> True\n"
                    ]
                }
            ],
            "source": [
                "def in_range(number, min_val, max_val):\n",
                "    \"\"\"Check if number is in range [min_val, max_val].\n",
                "    Args:\n",
                "        number (float): Number to check\n",
                "        min_val (float): Minimum value\n",
                "        max_val (float): Maximum value\n",
                "    Returns:\n",
                "        bool: True if in range, False otherwise\n",
                "    \"\"\"\n",
                "    return min_val <= number <= max_val\n",
                "\n",
                "test_cases = [\n",
                "    [5, 0, 10],       # -> True\n",
                "    [-1, 0, 100],     # -> False\n",
                "    [50, 50, 50],     # -> True\n",
                "    [25, 0, 20],      # -> False\n",
                "    [3.14, 3, 4]      # -> True\n",
                "]\n",
                "\n",
                "# Excel demo: =IN_RANGE(5, 0, 10)\n",
                "\n",
                "run_tests(in_range, test_cases)"
            ]
        },
        {
            "cell_type": "code",
            "execution_count": 7,
            "id": "to-power",
            "metadata": {},
            "outputs": [
                {
                    "name": "stdout",
                    "output_type": "stream",
                    "text": [
                        "Case 1: [2, 3, 0] -> 8\n",
                        "Case 2: [5, 2, 1] -> 25\n",
                        "Case 3: [3, 0.5, 2] -> 1.73\n",
                        "Case 4: [10, -1, 3] -> 0.1\n",
                        "Case 5: [2.5, 2, 2] -> 6.25\n"
                    ]
                }
            ],
            "source": [
                "def to_power(base, exponent, round_to):\n",
                "    \"\"\"Calculate power with rounding.\n",
                "    Args:\n",
                "        base (float): Base number\n",
                "        exponent (float): Exponent\n",
                "        round_to (int): Decimal places to round to\n",
                "    Returns:\n",
                "        float: Result rounded to specified decimals\n",
                "    \"\"\"\n",
                "    return round(base ** exponent, round_to)\n",
                "\n",
                "test_cases = [\n",
                "    [2, 3, 0],        # -> 8\n",
                "    [5, 2, 1],        # -> 25.0\n",
                "    [3, 0.5, 2],      # -> 1.73\n",
                "    [10, -1, 3],      # -> 0.100\n",
                "    [2.5, 2, 2]       # -> 6.25\n",
                "]\n",
                "\n",
                "# Excel demo: =TO_POWER(2, 3, 0)\n",
                "\n",
                "run_tests(to_power, test_cases)"
            ]
        },
        {
            "cell_type": "code",
            "execution_count": 8,
            "id": "add-two-days",
            "metadata": {},
            "outputs": [
                {
                    "name": "stdout",
                    "output_type": "stream",
                    "text": [
                        "Case 1: [43831] -> 2020-01-03\n",
                        "Case 2: [44561] -> 2022-01-02\n",
                        "Case 3: ['2024-06-15'] -> 2024-06-17\n",
                        "Case 4: ['2025-01-01'] -> 2025-01-03\n"
                    ]
                }
            ],
            "source": [
                "def add_two_days(date_input):\n",
                "    \"\"\"Add two days to the given date.\n",
                "    Args:\n",
                "        date_input (str or int): Date in 'YYYY-MM-DD' format or Excel serial date\n",
                "    Returns:\n",
                "        str: New date in 'YYYY-MM-DD' format\n",
                "    \"\"\"\n",
                "    from datetime import datetime, timedelta\n",
                "    \n",
                "    if isinstance(date_input, int):\n",
                "        # Excel serial date to datetime conversion\n",
                "        date = datetime(1899, 12, 30) + timedelta(days=date_input)\n",
                "    else:\n",
                "        date = datetime.strptime(date_input, '%Y-%m-%d')\n",
                "    \n",
                "    new_date = date + timedelta(days=2)\n",
                "    return new_date.strftime('%Y-%m-%d')\n",
                "\n",
                "test_cases = [\n",
                "    [43831],\n",
                "    [44561],\n",
                "    ['2024-06-15'],\n",
                "    ['2025-01-01']\n",
                "]\n",
                "\n",
                "# Excel demo: =ADD_TWO_DAYS(43831)\n",
                "\n",
                "run_tests(add_two_days, test_cases)"
            ]
        },
        {
            "cell_type": "markdown",
            "id": "ea88722e",
            "metadata": {},
            "source": []
        }
    ],
    "metadata": {
        "boardflare": {
            "author": "Boardflare",
            "description": "Single notebook with multiple functions",
            "tags": [
                "simple"
            ],
            "title": "Simple demo functions"
        },
        "kernelspec": {
            "display_name": "venv",
            "language": "python",
            "name": "python3"
        },
        "language_info": {
            "codemirror_mode": {
                "name": "ipython",
                "version": 3
            },
            "file_extension": ".py",
            "mimetype": "text/x-python",
            "name": "python",
            "nbconvert_exporter": "python",
            "pygments_lexer": "ipython3",
            "version": "3.12.6"
        }
    },
    "nbformat": 4,
    "nbformat_minor": 5
}
