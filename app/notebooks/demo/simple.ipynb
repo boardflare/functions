{
    "cells": [
        {
            "cell_type": "code",
            "execution_count": 1,
            "id": "8384688e",
            "metadata": {},
            "outputs": [],
            "source": [
                "# Function to run test cases\n",
                "def run_tests(func, test_cases):\n",
                "    if not test_cases:\n",
                "        raise ValueError(\"No test cases provided.\")\n",
                "    \n",
                "    if not isinstance(test_cases, list):\n",
                "        raise TypeError(\"Test cases should be provided as a list.\")\n",
                "    \n",
                "    for i, test_case in enumerate(test_cases):\n",
                "        if not isinstance(test_case, list):\n",
                "            raise TypeError(f\"Test case {i+1} is not a list.\")\n",
                "        \n",
                "        # Handle both single arguments and lists of arguments\n",
                "        if not test_case:\n",
                "            raise ValueError(f\"Test case {i+1} is empty.\")\n",
                "        \n",
                "        if isinstance(test_case[0], list):\n",
                "            result = func(test_case)\n",
                "            test_case_str = str(test_case)\n",
                "        else:\n",
                "            result = func(*test_case)\n",
                "            test_case_str = str(test_case)\n",
                "        \n",
                "        print(f\"Case {i+1}: {test_case_str} -> {result}\")"
            ]
        },
        {
            "cell_type": "code",
            "execution_count": 2,
            "id": "calculate-area",
            "metadata": {},
            "outputs": [
                {
                    "name": "stdout",
                    "output_type": "stream",
                    "text": [
                        "Case 1: [5, 4] -> 20\n",
                        "Case 2: [2.5, 4] -> 10.0\n",
                        "Case 3: [10, 10] -> 100\n",
                        "Case 4: [1, 1] -> 1\n",
                        "Case 5: [0.5, 2] -> 1.0\n"
                    ]
                }
            ],
            "source": [
                "def calculate_area(length, width):\n",
                "    \"\"\"Calculate area of rectangle.\n",
                "    Args:\n",
                "        length (float): Length of rectangle\n",
                "        width (float): Width of rectangle\n",
                "    Returns:\n",
                "        float: Area of rectangle\n",
                "    \"\"\"\n",
                "    return length * width\n",
                "\n",
                "test_cases = [\n",
                "    [5, 4],      # -> 20\n",
                "    [2.5, 4],    # -> 10\n",
                "    [10, 10],    # -> 100\n",
                "    [1, 1],      # -> 1\n",
                "    [0.5, 2]     # -> 1\n",
                "]\n",
                "\n",
                "# Excel usage: =CALCULATE_AREA(5, 4)\n",
                "\n",
                "run_tests(calculate_area, test_cases)"
            ]
        },
        {
            "cell_type": "code",
            "execution_count": 3,
            "id": "join-strings",
            "metadata": {},
            "outputs": [
                {
                    "name": "stdout",
                    "output_type": "stream",
                    "text": [
                        "Case 1: ['hello', 'world', ' '] -> hello world\n",
                        "Case 2: ['first', 'last', '-'] -> first-last\n",
                        "Case 3: ['a', 'b', '_'] -> a_b\n",
                        "Case 4: ['python', 'code', '::'] -> python::code\n",
                        "Case 5: ['x', 'y', ''] -> xy\n"
                    ]
                }
            ],
            "source": [
                "def join_strings(first_str, second_str, separator):\n",
                "    \"\"\"Join two strings with a separator.\n",
                "    Args:\n",
                "        first_str (str): First string\n",
                "        second_str (str): Second string\n",
                "        separator (str): Separator between strings\n",
                "    Returns:\n",
                "        str: Joined string\n",
                "    \"\"\"\n",
                "    return f\"{first_str}{separator}{second_str}\"\n",
                "\n",
                "test_cases = [\n",
                "    [\"hello\", \"world\", \" \"],      # -> \"hello world\"\n",
                "    [\"first\", \"last\", \"-\"],       # -> \"first-last\"\n",
                "    [\"a\", \"b\", \"_\"],             # -> \"a_b\"\n",
                "    [\"python\", \"code\", \"::\"],     # -> \"python::code\"\n",
                "    [\"x\", \"y\", \"\"]               # -> \"xy\"\n",
                "]\n",
                "\n",
                "# Excel usage: =JOIN_STRINGS(\"hello\", \"world\", \" \")\n",
                "\n",
                "run_tests(join_strings, test_cases)"
            ]
        },
        {
            "cell_type": "code",
            "execution_count": 4,
            "id": "in-range",
            "metadata": {},
            "outputs": [
                {
                    "name": "stdout",
                    "output_type": "stream",
                    "text": [
                        "Case 1: [5, 0, 10] -> True\n",
                        "Case 2: [-1, 0, 100] -> False\n",
                        "Case 3: [50, 50, 50] -> True\n",
                        "Case 4: [25, 0, 20] -> False\n",
                        "Case 5: [3.14, 3, 4] -> True\n"
                    ]
                }
            ],
            "source": [
                "def in_range(number, min_val, max_val):\n",
                "    \"\"\"Check if number is in range [min_val, max_val].\n",
                "    Args:\n",
                "        number (float): Number to check\n",
                "        min_val (float): Minimum value\n",
                "        max_val (float): Maximum value\n",
                "    Returns:\n",
                "        bool: True if in range, False otherwise\n",
                "    \"\"\"\n",
                "    return min_val <= number <= max_val\n",
                "\n",
                "test_cases = [\n",
                "    [5, 0, 10],       # -> True\n",
                "    [-1, 0, 100],     # -> False\n",
                "    [50, 50, 50],     # -> True\n",
                "    [25, 0, 20],      # -> False\n",
                "    [3.14, 3, 4]      # -> True\n",
                "]\n",
                "\n",
                "# Excel usage: =IN_RANGE(5, 0, 10)\n",
                "\n",
                "run_tests(in_range, test_cases)"
            ]
        },
        {
            "cell_type": "code",
            "execution_count": 5,
            "id": "to-power",
            "metadata": {},
            "outputs": [
                {
                    "name": "stdout",
                    "output_type": "stream",
                    "text": [
                        "Case 1: [2, 3, 0] -> 8\n",
                        "Case 2: [5, 2, 1] -> 25\n",
                        "Case 3: [3, 0.5, 2] -> 1.73\n",
                        "Case 4: [10, -1, 3] -> 0.1\n",
                        "Case 5: [2.5, 2, 2] -> 6.25\n"
                    ]
                }
            ],
            "source": [
                "def to_power(base, exponent, round_to):\n",
                "    \"\"\"Calculate power with rounding.\n",
                "    Args:\n",
                "        base (float): Base number\n",
                "        exponent (float): Exponent\n",
                "        round_to (int): Decimal places to round to\n",
                "    Returns:\n",
                "        float: Result rounded to specified decimals\n",
                "    \"\"\"\n",
                "    return round(base ** exponent, round_to)\n",
                "\n",
                "test_cases = [\n",
                "    [2, 3, 0],        # -> 8\n",
                "    [5, 2, 1],        # -> 25.0\n",
                "    [3, 0.5, 2],      # -> 1.73\n",
                "    [10, -1, 3],      # -> 0.100\n",
                "    [2.5, 2, 2]       # -> 6.25\n",
                "]\n",
                "\n",
                "# Excel usage: =TO_POWER(2, 3, 0)\n",
                "\n",
                "run_tests(to_power, test_cases)"
            ]
        },
        {
            "cell_type": "code",
            "execution_count": 6,
            "id": "add-two-days",
            "metadata": {},
            "outputs": [
                {
                    "name": "stdout",
                    "output_type": "stream",
                    "text": [
                        "Case 1: [43831] -> 2020-01-03\n",
                        "Case 2: [44561] -> 2022-01-02\n",
                        "Case 3: ['2024-06-15'] -> 2024-06-17\n",
                        "Case 4: ['2025-01-01'] -> 2025-01-03\n"
                    ]
                }
            ],
            "source": [
                "def add_two_days(date_input):\n",
                "    \"\"\"Add two days to the given date.\n",
                "    Args:\n",
                "        date_input (str or int): Date in 'YYYY-MM-DD' format or Excel serial date\n",
                "    Returns:\n",
                "        str: New date in 'YYYY-MM-DD' format\n",
                "    \"\"\"\n",
                "    from datetime import datetime, timedelta\n",
                "    \n",
                "    if isinstance(date_input, int):\n",
                "        # Excel serial date to datetime conversion\n",
                "        date = datetime(1899, 12, 30) + timedelta(days=date_input)\n",
                "    else:\n",
                "        date = datetime.strptime(date_input, '%Y-%m-%d')\n",
                "    \n",
                "    new_date = date + timedelta(days=2)\n",
                "    return new_date.strftime('%Y-%m-%d')\n",
                "\n",
                "test_cases = [\n",
                "    [43831],\n",
                "    [44561],\n",
                "    ['2024-06-15'],\n",
                "    ['2025-01-01']\n",
                "]\n",
                "\n",
                "# Excel usage: =ADD_TWO_DAYS(43831)\n",
                "\n",
                "run_tests(add_two_days, test_cases)"
            ]
        },
        {
            "cell_type": "code",
            "execution_count": 7,
            "id": "4a3a5d36",
            "metadata": {},
            "outputs": [
                {
                    "name": "stdout",
                    "output_type": "stream",
                    "text": [
                        "Case 1: [[5, 4], [2.5, 4], [10, 10], [1, 1], [0.5, 2]] ->     Area\n",
                        "0   20.0\n",
                        "1   10.0\n",
                        "2  100.0\n",
                        "3    1.0\n",
                        "4    1.0\n"
                    ]
                }
            ],
            "source": [
                "import pandas as pd\n",
                "import numpy as np\n",
                "\n",
                "def calculate_areas(rectangles):\n",
                "    \"\"\"Calculate areas for multiple rectangles.\n",
                "    Args:\n",
                "        rectangles (list): 2D list of [length, width] pairs\n",
                "    Returns:\n",
                "        pd.DataFrame: DataFrame with calculated areas\n",
                "    \"\"\"\n",
                "    rect_array = np.array(rectangles)\n",
                "    areas = rect_array[:, 0] * rect_array[:, 1]\n",
                "    return pd.DataFrame(areas, columns=['Area'])\n",
                "\n",
                "# Typical 2D list input from Excel range.\n",
                "test_cases = [\n",
                "    [[5, 4], [2.5, 4], [10, 10], [1, 1], [0.5, 2]]\n",
                "]\n",
                "\n",
                "# Excel usage: =CALCULATE_AREAS({5,4;2.5,4;10,10;1,1;0.5,2})\n",
                "\n",
                "run_tests(calculate_areas, test_cases)"
            ]
        }
    ],
    "metadata": {
        "boardflare": {
            "author": "Boardflare",
            "description": "Simple examples to get started with.",
            "tags": [
                "simple"
            ],
            "title": "Simple Examples"
        },
        "kernelspec": {
            "display_name": "venv",
            "language": "python",
            "name": "python3"
        },
        "language_info": {
            "codemirror_mode": {
                "name": "ipython",
                "version": 3
            },
            "file_extension": ".py",
            "mimetype": "text/x-python",
            "name": "python",
            "nbconvert_exporter": "python",
            "pygments_lexer": "ipython3",
            "version": "3.12.6"
        }
    },
    "nbformat": 4,
    "nbformat_minor": 5
}
