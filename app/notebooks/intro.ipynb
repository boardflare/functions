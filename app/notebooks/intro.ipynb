{
 "cells": [
  {
   "cell_type": "markdown",
   "metadata": {},
   "source": [
    "This is a [Jupyter](https://jupyterlab.readthedocs.io/en/latest/user/notebook.html) notebook which enables you to edit and run Python code in your web browser using the same [Pyodide](https://pyodide.org/en/stable/) Python runtime as the `BOARDFLARE.RUNPY` function in Excel, so any code that works here should work there🤞.\n",
    "\n",
    "We are in the process of building a collection of Python functions for common Excel tasks which can be run using either the [BOARDFLARE.RUNPY()](/apps/excel/python) add-in function or the native [Excel PY()](https://support.microsoft.com/en-us/office/introduction-to-python-in-excel-55643c2e-ff56-4168-b1ce-9428c8308545) feature.  The functions are organized by task and you can explore them in the folders.\n",
    "\n",
    "If you want to modify the code, right-click on the notebook file (.ipynb) in the file browser and select `Duplicate`.  This will create a copy that you can edit.  It is a good idea to move this copy to the root folder or another folder you create (e.g. `personal`).  If you simply edit one of our existing notebooks, you will no longer be able to see any changes we make to that notebook, as your version will take precedence.  It is a good practice to move your copies to the root folder or a personal folder you create.  You can also create a new notebook from the `Launcher` tab by selecting Python (Pyodide).  Finally, note that your notebooks will be stored locally in your browser's cache, so if you clear your cache, you will lose your work.  You can download your notebooks by right-clicking on them in the file browser and selecting `Download`.\n",
    "\n",
    "Below are some simple examples to get you started."
   ]
  },
  {
   "cell_type": "code",
   "execution_count": 3,
   "metadata": {},
   "outputs": [],
   "source": [
    "# Set global variables as RUNPY does when passed scalar values.\n",
    "arg1 = 2\n",
    "arg2 = 3"
   ]
  },
  {
   "cell_type": "code",
   "execution_count": 4,
   "metadata": {},
   "outputs": [
    {
     "data": {
      "text/plain": [
       "5"
      ]
     },
     "execution_count": 4,
     "metadata": {},
     "output_type": "execute_result"
    }
   ],
   "source": [
    "# Adds two numbers.\n",
    "def add_numbers(a, b):\n",
    "    return a + b\n",
    "\n",
    "add_numbers(arg1, arg2)"
   ]
  },
  {
   "cell_type": "code",
   "execution_count": 5,
   "metadata": {},
   "outputs": [],
   "source": [
    "# Set global variables as RUNPY does when passed array values.\n",
    "import pandas as pd\n",
    "arg1 = pd.DataFrame([[1, 2, 3]])\n",
    "arg2 = 3"
   ]
  },
  {
   "cell_type": "code",
   "execution_count": 6,
   "metadata": {},
   "outputs": [
    {
     "data": {
      "text/plain": [
       "[[4, 5, 6]]"
      ]
     },
     "execution_count": 6,
     "metadata": {},
     "output_type": "execute_result"
    }
   ],
   "source": [
    "# Converts arg1 to 2D list and add arg2 to each element\n",
    "def add_to_each_element(arg1, arg2):\n",
    "    return [[element + arg2 for element in row] for row in arg1.values.tolist()]\n",
    "\n",
    "add_to_each_element(arg1, arg2)"
   ]
  }
 ],
 "metadata": {
  "kernelspec": {
   "display_name": "venv",
   "language": "python",
   "name": "python3"
  },
  "language_info": {
   "codemirror_mode": {
    "name": "ipython",
    "version": 3
   },
   "file_extension": ".py",
   "mimetype": "text/x-python",
   "name": "python",
   "nbconvert_exporter": "python",
   "pygments_lexer": "ipython3",
   "version": "3.12.6"
  }
 },
 "nbformat": 4,
 "nbformat_minor": 2
}
