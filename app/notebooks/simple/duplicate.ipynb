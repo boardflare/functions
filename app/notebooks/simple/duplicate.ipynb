{
    "cells": [
        {
            "cell_type": "code",
            "execution_count": 3,
            "id": "8384688e",
            "metadata": {
                "tags": [
                    "Runner"
                ]
            },
            "outputs": [],
            "source": [
                "def run_tests(func, test_cases):\n",
                "    for i, args in enumerate(test_cases):\n",
                "        result = func(*args)\n",
                "        excel_formula = f\"={func.__name__.upper()}({', '.join(map(str, args))})\"\n",
                "        print(f\"Case {i+1}: {args} -> {result} | Excel: {excel_formula}\")"
            ]
        },
        {
            "cell_type": "code",
            "execution_count": 4,
            "id": "calculate-area",
            "metadata": {},
            "outputs": [
                {
                    "name": "stdout",
                    "output_type": "stream",
                    "text": [
                        "Case 1: [5, 3] -> 15 | Excel: =CALCULATE_AREA(5, 3)\n",
                        "Case 2: [2.5, 4] -> 10.0 | Excel: =CALCULATE_AREA(2.5, 4)\n",
                        "Case 3: [10, 10] -> 100 | Excel: =CALCULATE_AREA(10, 10)\n",
                        "Case 4: [1, 1] -> 1 | Excel: =CALCULATE_AREA(1, 1)\n",
                        "Case 5: [0.5, 2] -> 1.0 | Excel: =CALCULATE_AREA(0.5, 2)\n"
                    ]
                }
            ],
            "source": [
                "def calculate_areas(length, width):\n",
                "    \"\"\"Calculate area of rectangle.\n",
                "    Args:\n",
                "        length (float): Length of rectangle\n",
                "        width (float): Width of rectangle\n",
                "    Returns:\n",
                "        float: Area of rectangle\n",
                "    \"\"\"\n",
                "    return length * width\n",
                "\n",
                "test_cases = [\n",
                "    [5, 3],      # -> 15\n",
                "    [2.5, 4],    # -> 10\n",
                "    [10, 10],    # -> 100\n",
                "    [1, 1],      # -> 1\n",
                "    [0.5, 2]     # -> 1\n",
                "]\n",
                "\n",
                "run_tests(calculate_areas, test_cases)"
            ]
        }
    ],
    "metadata": {
        "kernelspec": {
            "display_name": "venv",
            "language": "python",
            "name": "python3"
        },
        "language_info": {
            "codemirror_mode": {
                "name": "ipython",
                "version": 3
            },
            "file_extension": ".py",
            "mimetype": "text/x-python",
            "name": "python",
            "nbconvert_exporter": "python",
            "pygments_lexer": "ipython3",
            "version": "3.12.6"
        }
    },
    "nbformat": 4,
    "nbformat_minor": 5
}
