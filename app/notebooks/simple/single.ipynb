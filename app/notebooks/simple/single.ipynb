{
    "cells": [
        {
            "cell_type": "code",
            "execution_count": 4,
            "id": "8384688e",
            "metadata": {
                "tags": [
                    "Runner"
                ]
            },
            "outputs": [],
            "source": [
                "def run_tests(func, test_cases):\n",
                "    for i, args in enumerate(test_cases):\n",
                "        result = func(*args)\n",
                "        formatted_args = [f'\"{arg}\"' if isinstance(arg, str) else str(arg) for arg in args]\n",
                "        excel_formula = f\"={func.__name__.upper()}({', '.join(formatted_args)})\"\n",
                "        print(f\"Case {i+1}: {args} -> {result} | Excel: {excel_formula}\")"
            ]
        },
        {
            "cell_type": "code",
            "execution_count": 5,
            "id": "calculate-area",
            "metadata": {},
            "outputs": [
                {
                    "name": "stdout",
                    "output_type": "stream",
                    "text": [
                        "Case 1: [5, 3] -> 15 | Excel: =CALCULATE_AREA(5, 3)\n",
                        "Case 2: [2.5, 4] -> 10.0 | Excel: =CALCULATE_AREA(2.5, 4)\n",
                        "Case 3: [10, 10] -> 100 | Excel: =CALCULATE_AREA(10, 10)\n",
                        "Case 4: [1, 1] -> 1 | Excel: =CALCULATE_AREA(1, 1)\n",
                        "Case 5: [0.5, 2] -> 1.0 | Excel: =CALCULATE_AREA(0.5, 2)\n"
                    ]
                }
            ],
            "source": [
                "def calculate_area(length, width):\n",
                "    \"\"\"Calculate area of rectangle.\n",
                "    Args:\n",
                "        length (float): Length of rectangle\n",
                "        width (float): Width of rectangle\n",
                "    Returns:\n",
                "        float: Area of rectangle\n",
                "    \"\"\"\n",
                "    return length * width\n",
                "\n",
                "test_cases = [\n",
                "    [5, 3],      # -> 15\n",
                "    [2.5, 4],    # -> 10\n",
                "    [10, 10],    # -> 100\n",
                "    [1, 1],      # -> 1\n",
                "    [0.5, 2]     # -> 1\n",
                "]\n",
                "\n",
                "# Run tests:\n",
                "run_tests(calculate_area, test_cases)"
            ]
        },
        {
            "cell_type": "code",
            "execution_count": 6,
            "id": "join-strings",
            "metadata": {},
            "outputs": [
                {
                    "name": "stdout",
                    "output_type": "stream",
                    "text": [
                        "Case 1: ['hello', 'world', ' '] -> hello world | Excel: =JOIN_STRINGS(\"hello\", \"world\", \" \")\n",
                        "Case 2: ['first', 'last', '-'] -> first-last | Excel: =JOIN_STRINGS(\"first\", \"last\", \"-\")\n",
                        "Case 3: ['a', 'b', '_'] -> a_b | Excel: =JOIN_STRINGS(\"a\", \"b\", \"_\")\n",
                        "Case 4: ['python', 'code', '::'] -> python::code | Excel: =JOIN_STRINGS(\"python\", \"code\", \"::\")\n",
                        "Case 5: ['x', 'y', ''] -> xy | Excel: =JOIN_STRINGS(\"x\", \"y\", \"\")\n"
                    ]
                }
            ],
            "source": [
                "def join_strings(first_str, second_str, separator):\n",
                "    \"\"\"Join two strings with a separator.\n",
                "    Args:\n",
                "        first_str (str): First string\n",
                "        second_str (str): Second string\n",
                "        separator (str): Separator between strings\n",
                "    Returns:\n",
                "        str: Joined string\n",
                "    \"\"\"\n",
                "    return f\"{first_str}{separator}{second_str}\"\n",
                "\n",
                "test_cases = [\n",
                "    [\"hello\", \"world\", \" \"],      # -> \"hello world\"\n",
                "    [\"first\", \"last\", \"-\"],       # -> \"first-last\"\n",
                "    [\"a\", \"b\", \"_\"],             # -> \"a_b\"\n",
                "    [\"python\", \"code\", \"::\"],     # -> \"python::code\"\n",
                "    [\"x\", \"y\", \"\"]               # -> \"xy\"\n",
                "]\n",
                "\n",
                "# Run tests:\n",
                "run_tests(join_strings, test_cases)"
            ]
        },
        {
            "cell_type": "code",
            "execution_count": 7,
            "id": "in-range",
            "metadata": {},
            "outputs": [
                {
                    "name": "stdout",
                    "output_type": "stream",
                    "text": [
                        "Case 1: [5, 0, 10] -> True | Excel: =IN_RANGE(5, 0, 10)\n",
                        "Case 2: [-1, 0, 100] -> False | Excel: =IN_RANGE(-1, 0, 100)\n",
                        "Case 3: [50, 50, 50] -> True | Excel: =IN_RANGE(50, 50, 50)\n",
                        "Case 4: [25, 0, 20] -> False | Excel: =IN_RANGE(25, 0, 20)\n",
                        "Case 5: [3.14, 3, 4] -> True | Excel: =IN_RANGE(3.14, 3, 4)\n"
                    ]
                }
            ],
            "source": [
                "def in_range(number, min_val, max_val):\n",
                "    \"\"\"Check if number is in range [min_val, max_val].\n",
                "    Args:\n",
                "        number (float): Number to check\n",
                "        min_val (float): Minimum value\n",
                "        max_val (float): Maximum value\n",
                "    Returns:\n",
                "        bool: True if in range, False otherwise\n",
                "    \"\"\"\n",
                "    return min_val <= number <= max_val\n",
                "\n",
                "test_cases = [\n",
                "    [5, 0, 10],       # -> True\n",
                "    [-1, 0, 100],     # -> False\n",
                "    [50, 50, 50],     # -> True\n",
                "    [25, 0, 20],      # -> False\n",
                "    [3.14, 3, 4]      # -> True\n",
                "]\n",
                "\n",
                "# Run tests:\n",
                "run_tests(in_range, test_cases)"
            ]
        },
        {
            "cell_type": "code",
            "execution_count": 8,
            "id": "to-power",
            "metadata": {},
            "outputs": [
                {
                    "name": "stdout",
                    "output_type": "stream",
                    "text": [
                        "Case 1: [2, 3, 0] -> 8 | Excel: =TO_POWER(2, 3, 0)\n",
                        "Case 2: [5, 2, 1] -> 25 | Excel: =TO_POWER(5, 2, 1)\n",
                        "Case 3: [3, 0.5, 2] -> 1.73 | Excel: =TO_POWER(3, 0.5, 2)\n",
                        "Case 4: [10, -1, 3] -> 0.1 | Excel: =TO_POWER(10, -1, 3)\n",
                        "Case 5: [2.5, 2, 2] -> 6.25 | Excel: =TO_POWER(2.5, 2, 2)\n"
                    ]
                }
            ],
            "source": [
                "def to_power(base, exponent, round_to):\n",
                "    \"\"\"Calculate power with rounding.\n",
                "    Args:\n",
                "        base (float): Base number\n",
                "        exponent (float): Exponent\n",
                "        round_to (int): Decimal places to round to\n",
                "    Returns:\n",
                "        float: Result rounded to specified decimals\n",
                "    \"\"\"\n",
                "    return round(base ** exponent, round_to)\n",
                "\n",
                "test_cases = [\n",
                "    [2, 3, 0],        # -> 8\n",
                "    [5, 2, 1],        # -> 25.0\n",
                "    [3, 0.5, 2],      # -> 1.73\n",
                "    [10, -1, 3],      # -> 0.100\n",
                "    [2.5, 2, 2]       # -> 6.25\n",
                "]\n",
                "\n",
                "# Run tests:\n",
                "run_tests(to_power, test_cases)"
            ]
        },
        {
            "cell_type": "code",
            "execution_count": 9,
            "id": "add-two-days",
            "metadata": {},
            "outputs": [
                {
                    "name": "stdout",
                    "output_type": "stream",
                    "text": [
                        "Case 1: ['2020-01-01'] -> 2020-01-03 | Excel: =ADD_TWO_DAYS(\"2020-01-01\")\n",
                        "Case 2: ['2021-12-30'] -> 2022-01-01 | Excel: =ADD_TWO_DAYS(\"2021-12-30\")\n",
                        "Case 3: ['1999-12-31'] -> 2000-01-02 | Excel: =ADD_TWO_DAYS(\"1999-12-31\")\n",
                        "Case 4: ['2022-02-27'] -> 2022-03-01 | Excel: =ADD_TWO_DAYS(\"2022-02-27\")\n",
                        "Case 5: ['2023-05-15'] -> 2023-05-17 | Excel: =ADD_TWO_DAYS(\"2023-05-15\")\n",
                        "Case 6: [43831] -> 2020-01-03 | Excel: =ADD_TWO_DAYS(43831)\n"
                    ]
                }
            ],
            "source": [
                "def add_two_days(date_input):\n",
                "    \"\"\"Add two days to the given date.\n",
                "    Args:\n",
                "        date_input (str or int): Date in 'YYYY-MM-DD' format or Excel serial date\n",
                "    Returns:\n",
                "        str: New date in 'YYYY-MM-DD' format\n",
                "    \"\"\"\n",
                "    from datetime import datetime, timedelta\n",
                "    \n",
                "    if isinstance(date_input, int):\n",
                "        # Excel serial date to datetime conversion\n",
                "        date = datetime(1899, 12, 30) + timedelta(days=date_input)\n",
                "    else:\n",
                "        date = datetime.strptime(date_input, '%Y-%m-%d')\n",
                "    \n",
                "    new_date = date + timedelta(days=2)\n",
                "    return new_date.strftime('%Y-%m-%d')\n",
                "\n",
                "test_cases = [\n",
                "    [\"2020-01-01\"],  # -> \"2020-01-03\"\n",
                "    [\"2021-12-30\"],  # -> \"2022-01-01\"\n",
                "    [\"1999-12-31\"],  # -> \"2000-01-02\"\n",
                "    [\"2022-02-27\"],  # -> \"2022-03-01\"\n",
                "    [\"2023-05-15\"],  # -> \"2023-05-17\"\n",
                "    [43831]          # -> \"2020-01-03\" (Excel serial date for 2020-01-01)\n",
                "]\n",
                "\n",
                "# Run tests:\n",
                "run_tests(add_two_days, test_cases)"
            ]
        }
    ],
    "metadata": {
        "kernelspec": {
            "display_name": "venv",
            "language": "python",
            "name": "python3"
        },
        "language_info": {
            "codemirror_mode": {
                "name": "ipython",
                "version": 3
            },
            "file_extension": ".py",
            "mimetype": "text/x-python",
            "name": "python",
            "nbconvert_exporter": "python",
            "pygments_lexer": "ipython3",
            "version": "3.12.6"
        }
    },
    "nbformat": 4,
    "nbformat_minor": 5
}
