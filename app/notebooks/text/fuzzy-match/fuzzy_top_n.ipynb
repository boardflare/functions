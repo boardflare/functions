{
 "cells": [
  {
   "cell_type": "code",
   "execution_count": 7,
   "metadata": {
    "tags": [
     "parameters"
    ]
   },
   "outputs": [
    {
     "data": {
      "text/plain": [
       "'{\"arg1\": [[\"sample\"], [\"exemplary\"], [\"sampler\"], [\"example\"]], \"arg2\": [[\"samples\"], [\"exemplar\"], [\"sample\"], [\"examples\"]], \"arg3\": \"jaccard\"}'"
      ]
     },
     "execution_count": 7,
     "metadata": {},
     "output_type": "execute_result"
    }
   ],
   "source": [
    "import pandas as pd\n",
    "import json\n",
    "\n",
    "# Setup globals similar to RUNPY function.\n",
    "# Arrays must be in pandas DataFrame.\n",
    "arg1 = pd.DataFrame([\"sample\", \"exemplary\", \"sampler\", \"example\"], columns=['needles'])\n",
    "arg2 = pd.DataFrame([\"samples\", \"exemplar\", \"sample\", \"examples\"], columns=['haystack'])\n",
    "arg3 = 'jaccard'\n",
    "\n",
    "# Serialize the arguments for loading into the demo workbook\n",
    "args = {\n",
    "    \"arg1\": arg1.values.tolist(),\n",
    "    \"arg2\": arg2.values.tolist(),\n",
    "    \"arg3\": arg3,\n",
    "}\n",
    "json.dumps(args)"
   ]
  },
  {
   "cell_type": "code",
   "execution_count": 7,
   "metadata": {
    "tags": [
     "function"
    ]
   },
   "outputs": [
    {
     "data": {
      "text/plain": [
       "[[3, 1.0], [2, 0.89], [3, 0.86], [2, 0.88]]"
      ]
     },
     "execution_count": 7,
     "metadata": {},
     "output_type": "execute_result"
    }
   ],
   "source": [
    "def fuzzy_top_n(needle, haystack_df, algorithm, top_n):\n",
    "    \"\"\"\n",
    "    Calculate text distance matches between needle and haystack.\n",
    "    \n",
    "    Args:\n",
    "        needle (str|DataFrame): Search term(s) to match\n",
    "        haystack_df (DataFrame): DataFrame to search within\n",
    "        algorithm (str): Text distance algorithm (e.g. 'jaccard')\n",
    "        top_n (int): Number of top matches to return\n",
    "        \n",
    "    Returns:\n",
    "        list: Top N matching strings\n",
    "    \"\"\"\n",
    "    algo_func = getattr(textdistance, algorithm)\n",
    "    haystack = haystack_df.values.flatten().tolist()\n",
    "    \n",
    "    if isinstance(needle, pd.DataFrame):\n",
    "        needle_list = needle.values.flatten().tolist()\n",
    "    else:\n",
    "        needle_list = [needle]\n",
    "    \n",
    "    results = []\n",
    "    for needle_item in needle_list:\n",
    "        scores = [(item, round(algo_func.normalized_similarity(needle_item, item), 2))\n",
    "                 for item in haystack]\n",
    "        scores.sort(key=lambda x: x[1], reverse=True)\n",
    "        top_matches = [score[0] for score in scores[:top_n]]\n",
    "        results.append(top_matches)\n",
    "    \n",
    "    return results[0] if len(results) == 1 else results\n",
    "\n",
    "# Example usage:\n",
    "fuzzy_top_n(arg1, arg2, 'jaccard', 3)"
   ]
  }
 ],
 "metadata": {
  "kernelspec": {
   "display_name": "venv",
   "language": "python",
   "name": "python3"
  },
  "language_info": {
   "codemirror_mode": {
    "name": "ipython",
    "version": 3
   },
   "file_extension": ".py",
   "mimetype": "text/x-python",
   "name": "python",
   "nbconvert_exporter": "python",
   "pygments_lexer": "ipython3",
   "version": "3.12.6"
  }
 },
 "nbformat": 4,
 "nbformat_minor": 2
}
