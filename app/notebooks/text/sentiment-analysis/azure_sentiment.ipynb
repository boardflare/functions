{
 "cells": [
  {
   "cell_type": "markdown",
   "metadata": {
    "tags": [
     "description"
    ]
   },
   "source": [
    "# `azure_sentiment`\n",
    "\n",
    "## Overview\n",
    "The `azure_sentiment` Python function uses the [Azure AI Language](https://azure.microsoft.com/en-us/pricing/details/cognitive-services/language-service/) service to analyze sentiment and opinions in the provided documents. It returns an array containing the sentiment analysis results with sentiment polarity at the document, sentence, and aspect levels. It also provides the opinions used at the aspect level.  \n",
    "\n",
    "| Task | Description | Boardflare RUNPY() | Excel PY() | Source in Jupyter | Demo Workbook |\n",
    "|:----:|:------------|:-------:|:----------:|:-------:|:-------:|\n",
    "| [Sentiment Analysis](https://www.boardflare.com/tasks/nlp/sentiment) | Uses [Azure AI Language](https://azure.microsoft.com/en-us/pricing/details/cognitive-services/language-service/) which provides aspect-based sentiment analysis. | ✅ | - | [Open](https://addins.boardflare.com/functions/prod/jupyterlite/lab/index.html?path=text/sentiment-analysis/azure_sentiment.ipynb) | [Open](https://whistlernetworks.sharepoint.com/:x:/s/Boardflare/EZOwMhafmQhNktK7qkD3-mABf-dJtDrPGRXgB3pEshzhAA?e=4LPE3z) |\n",
    "\n",
    "## Usage\n",
    "\n",
    "```python\n",
    "azure_sentiment(documents, azureai_key, azureai_url)\n",
    "```\n",
    "\n",
    "Arguments:\n",
    "\n",
    "| Argument      | Positional | Type           | Description                                                                 |\n",
    "|---------------|------------|----------------|-----------------------------------------------------------------------------|\n",
    "| `documents`   | arg1       | string or list | The text documents to analyze. Can be a single string or a pandas DataFrame.|\n",
    "| `azureai_key` | arg2       | string         | The Azure AI API key. e.g. 7920c673894d49d292de11a80d16572                  |\n",
    "| `azureai_url` | arg3       | string         | The Azure AI API endpoint (e.g. https://boardflare.openai.azure.com/)       |\n",
    "\n",
    "Returns a list of lists containing the sentiment analysis results. Each inner list contains:\n",
    "\n",
    "| Return Value     | Type  | Description                                                                                  |\n",
    "|------------------|-------|----------------------------------------------------------------------------------------------|\n",
    "| DocIndex         | int   | Document index (1-based).                                                                    |\n",
    "| DSent            | string| Document sentiment.                                                                          |\n",
    "| DPos             | float | Document confidence score (positive).                                                        |\n",
    "| DNeu             | float | Document confidence score (neutral).                                                         |\n",
    "| DNeg             | float | Document confidence score (negative).                                                        |\n",
    "| Sentence         | string| Sentence text.                                                                               |\n",
    "| SSent            | string| Sentence sentiment.                                                                          |\n",
    "| SPos             | float | Sentence confidence score (positive).                                                        |\n",
    "| SNeu             | float | Sentence confidence score (neutral).                                                         |\n",
    "| SNeg             | float | Sentence confidence score (negative).                                                       |\n",
    "| Aspect           | string| Target text.                                                                                 |\n",
    "| ASent            | string| Target sentiment.                                                                            |\n",
    "| APos             | float | Target confidence score (positive).                                                          |\n",
    "| ANeg             | float | Target confidence score (negative).                                                          |\n",
    "| Opinion          | string| Assessment text.                                                                             |\n",
    "| OSent            | string| Assessment sentiment.                                                                        |\n",
    "| OPos             | float | Assessment confidence score (positive).                                                      |\n",
    "| ONeg             | float | Assessment confidence score (negative).                                                      |\n",
    "\n",
    "### BOARDFLARE.RUNPY\n",
    "\n",
    "```excel\n",
    "=BOARDFLARE.RUNPY(\"text/sentiment/azure_sentiment.ipynb\", documents, azureai_key, azureai_url)\n",
    "```\n",
    "For example, to analyze the sentiment of a list of documents using your Azure AI key and endpoint, you would use the following formula:\n",
    "\n",
    "```excel\n",
    "=BOARDFLARE.RUNPY(\"text/sentiment/azure_sentiment.ipynb\", A1:A10, \"your_azureai_key\", \"your_azureai_url\")\n",
    "```\n",
    "\n",
    "### LAMBDA\n",
    "\n",
    "**AZURE.SENTIMENT**\n",
    "\n",
    "User-friendly named LAMBDA in which you could hard code the azureai_key and azureai_url to further simplify its use.\n",
    "\n",
    "```excel\n",
    "=LAMBDA(documents, azureai_key, azureai_url,\n",
    "    BOARDFLARE.RUNPY(\"text/sentiment/azure_sentiment.ipynb\", documents, azureai_key, azureai_url)\n",
    ")\n",
    "```\n",
    "\n",
    "For example, to analyze the sentiment of a list of documents using your Azure AI key and endpoint, you would use the following formula:\n",
    "```excel\n",
    "=AZURE.SENTIMENT(A1, B1:B10, 0.8)\n",
    "```\n",
    "\n",
    "## Analysis Results\n",
    "\n",
    "Sentiment labels (e.g. positive) are returned at the document, sentence, and aspect level, with a confidence score for each.  The labels are positive, negative, and neutral. At the document level, the mixed sentiment label also can be returned. The sentiment of the document is determined below:\n",
    "\n",
    "| Sentence sentiment | Returned document label |\n",
    "|--------------------|-------------------------|\n",
    "| At least one `positive` sentence is in the document. The rest of the sentences are `neutral`. | `positive` |\n",
    "| At least one `negative` sentence is in the document. The rest of the sentences are `neutral`. | `negative` |\n",
    "| At least one `negative` sentence and at least one `positive` sentence are in the document. | `mixed` |\n",
    "| All sentences in the document are `neutral`. | `neutral` |\n",
    "\n",
    "Confidence scores range from 1 to 0. Scores closer to 1 indicate a higher confidence in the label's classification, while lower scores indicate lower confidence. For each document or each sentence, the predicted scores associated with the labels (positive, negative, and neutral) add up to 1. For more information, see the Responsible AI transparency note.\n",
    "\n",
    "Each aspect and the corresponding opinion are extracted, also known as Aspect-based Sentiment Analysis, which provides more granular information about the opinions related to attributes of products or services in text. The API surfaces opinions as a target (noun or verb) and an assessment (adjective).\n",
    "\n",
    "For example, if a customer leaves feedback about a hotel such as \"The room was great, but the staff was unfriendly.\", the following results will be returned as outlined in the table below:\n",
    "\n",
    "| DocIndex | DSent | DPos | DNeu | DNeg | Sentence | SSent | SPos | SNeu | SNeg | Aspect | ASent | APos | ANeg | Opinion | OSent | OPos | ONeg |\n",
    "|----------|--------|------|------|------|-----------|--------|------|------|------|---------|--------|------|------|----------|--------|------|------|\n",
    "| 1 | mixed | 0.45 | 0.10 | 0.45 | The room was great | positive | 0.90 | 0.05 | 0.05 | room | positive | 0.95 | 0.05 | great | positive | 0.95 | 0.05 |\n",
    "| 1 | mixed | 0.45 | 0.10 | 0.45 | but the staff was unfriendly | negative | 0.05 | 0.15 | 0.80 | staff | negative | 0.05 | 0.95 | unfriendly | negative | 0.05 | 0.95 |\n",
    "\n",
    "Notes:\n",
    "- Document has \"mixed\" sentiment since it contains both positive and negative sentences\n",
    "- First sentence about the room is positive with high confidence\n",
    "- Second sentence about staff is negative with high confidence\n",
    "- Aspect-level analysis correctly identifies \"room\" and \"staff\" as targets\n",
    "- Associated opinions \"great\" and \"unfriendly\" are correctly matched to their aspects\n",
    "\n",
    "![](https://learn.microsoft.com/en-us/azure/ai-services/language-service/sentiment-opinion-mining/media/opinion-mining.png)\n"
   ]
  },
  {
   "cell_type": "code",
   "execution_count": 6,
   "metadata": {},
   "outputs": [
    {
     "name": "stdout",
     "output_type": "stream",
     "text": [
      "Requirement already satisfied: micropip in c:\\users\\brent\\code\\functions\\venv\\lib\\site-packages (0.6.1)\n",
      "Requirement already satisfied: packaging>=23.0 in c:\\users\\brent\\code\\functions\\venv\\lib\\site-packages (from micropip) (24.1)\n",
      "Note: you may need to restart the kernel to use updated packages.\n"
     ]
    }
   ],
   "source": [
    "%pip install micropip\n",
    "import micropip\n",
    "import pandas as pd\n",
    "import json"
   ]
  },
  {
   "cell_type": "code",
   "execution_count": 7,
   "metadata": {
    "tags": [
     "arg1"
    ]
   },
   "outputs": [
    {
     "data": {
      "text/plain": [
       "'[[\"The food and service were unacceptable. The concierge was nice, however.\"], [\"The rooms were clean and well maintained.\"], [\"The location is perfect but the staff was rude.\"]]'"
      ]
     },
     "execution_count": 7,
     "metadata": {},
     "output_type": "execute_result"
    }
   ],
   "source": [
    "# arg1: Documents to analyze (column array)\n",
    "arg1 = pd.DataFrame([\n",
    "    \"The food and service were unacceptable. The concierge was nice, however.\",\n",
    "    \"The rooms were clean and well maintained.\",\n",
    "    \"The location is perfect but the staff was rude.\",\n",
    "])\n",
    "\n",
    "# arg1: Documents to analyze (single string)\n",
    "# arg1 = \"The food and service were unacceptable. The concierge was nice, however.\"\n",
    "\n",
    "# output arg1 as column vector\n",
    "json.dumps([[x] for x in arg1[0].values.tolist()])"
   ]
  },
  {
   "cell_type": "code",
   "execution_count": 8,
   "metadata": {
    "tags": [
     "arg2"
    ]
   },
   "outputs": [
    {
     "data": {
      "text/plain": [
       "'AkOt5uTkCPrSzVigh4sXTNwlJLg59hdnJQPbYjTmVFzoKm3TGU9aJQQJ99AJACYeBjFXJ3w3AAAAACOGXpPH'"
      ]
     },
     "execution_count": 8,
     "metadata": {},
     "output_type": "execute_result"
    }
   ],
   "source": [
    "# arg2: Azure language api key\n",
    "arg2 = 'AkOt5uTkCPrSzVigh4sXTNwlJLg59hdnJQPbYjTmVFzoKm3TGU9aJQQJ99AJACYeBjFXJ3w3AAAAACOGXpPH'\n",
    "arg2"
   ]
  },
  {
   "cell_type": "code",
   "execution_count": 9,
   "metadata": {
    "tags": [
     "arg3"
    ]
   },
   "outputs": [
    {
     "data": {
      "text/plain": [
       "'https://boardflare.openai.azure.com/'"
      ]
     },
     "execution_count": 9,
     "metadata": {},
     "output_type": "execute_result"
    }
   ],
   "source": [
    "# arg3: Azure language api endpoint\n",
    "arg3 = 'https://boardflare.openai.azure.com/'\n",
    "arg3"
   ]
  },
  {
   "cell_type": "code",
   "execution_count": 10,
   "metadata": {
    "tags": [
     "function"
    ]
   },
   "outputs": [
    {
     "data": {
      "text/plain": [
       "[[1,\n",
       "  'mixed',\n",
       "  0.3,\n",
       "  0.17,\n",
       "  0.52,\n",
       "  'The food and service were unacceptable. ',\n",
       "  'negative',\n",
       "  0.0,\n",
       "  0.0,\n",
       "  1.0,\n",
       "  'food',\n",
       "  'negative',\n",
       "  0.01,\n",
       "  0.99,\n",
       "  'unacceptable',\n",
       "  'negative',\n",
       "  0.01,\n",
       "  0.99],\n",
       " [1,\n",
       "  'mixed',\n",
       "  0.3,\n",
       "  0.17,\n",
       "  0.52,\n",
       "  'The food and service were unacceptable. ',\n",
       "  'negative',\n",
       "  0.0,\n",
       "  0.0,\n",
       "  1.0,\n",
       "  'service',\n",
       "  'negative',\n",
       "  0.01,\n",
       "  0.99,\n",
       "  'unacceptable',\n",
       "  'negative',\n",
       "  0.01,\n",
       "  0.99],\n",
       " [1,\n",
       "  'mixed',\n",
       "  0.3,\n",
       "  0.17,\n",
       "  0.52,\n",
       "  'The concierge was nice, however.',\n",
       "  'positive',\n",
       "  0.61,\n",
       "  0.35,\n",
       "  0.05,\n",
       "  'concierge',\n",
       "  'positive',\n",
       "  1.0,\n",
       "  0.0,\n",
       "  'nice',\n",
       "  'positive',\n",
       "  1.0,\n",
       "  0.0],\n",
       " [2,\n",
       "  'positive',\n",
       "  0.86,\n",
       "  0.14,\n",
       "  0.0,\n",
       "  'The rooms were clean and well maintained.',\n",
       "  'positive',\n",
       "  0.86,\n",
       "  0.14,\n",
       "  0.0,\n",
       "  'rooms',\n",
       "  'positive',\n",
       "  1.0,\n",
       "  0.0,\n",
       "  'clean',\n",
       "  'positive',\n",
       "  1.0,\n",
       "  0.0],\n",
       " [2,\n",
       "  'positive',\n",
       "  0.86,\n",
       "  0.14,\n",
       "  0.0,\n",
       "  'The rooms were clean and well maintained.',\n",
       "  'positive',\n",
       "  0.86,\n",
       "  0.14,\n",
       "  0.0,\n",
       "  'rooms',\n",
       "  'positive',\n",
       "  1.0,\n",
       "  0.0,\n",
       "  'well maintained',\n",
       "  'positive',\n",
       "  1.0,\n",
       "  0.0],\n",
       " [3,\n",
       "  'negative',\n",
       "  0.0,\n",
       "  0.0,\n",
       "  1.0,\n",
       "  'The location is perfect but the staff was rude.',\n",
       "  'negative',\n",
       "  0.0,\n",
       "  0.0,\n",
       "  1.0,\n",
       "  'location',\n",
       "  'positive',\n",
       "  1.0,\n",
       "  0.0,\n",
       "  'perfect',\n",
       "  'positive',\n",
       "  1.0,\n",
       "  0.0],\n",
       " [3,\n",
       "  'negative',\n",
       "  0.0,\n",
       "  0.0,\n",
       "  1.0,\n",
       "  'The location is perfect but the staff was rude.',\n",
       "  'negative',\n",
       "  0.0,\n",
       "  0.0,\n",
       "  1.0,\n",
       "  'staff',\n",
       "  'negative',\n",
       "  0.03,\n",
       "  0.97,\n",
       "  'rude',\n",
       "  'negative',\n",
       "  0.03,\n",
       "  0.97]]"
      ]
     },
     "execution_count": 10,
     "metadata": {},
     "output_type": "execute_result"
    }
   ],
   "source": [
    "await micropip.install([\"azure-ai-textanalytics\"])\n",
    "from azure.ai.textanalytics import TextAnalyticsClient\n",
    "from azure.core.credentials import AzureKeyCredential\n",
    "\n",
    "# Example method for detecting sentiment and opinions in text \n",
    "def azure_sentiment(documents, language_key, language_endpoint):\n",
    "    \"\"\"\n",
    "    Analyzes sentiment and opinions in the provided documents using Azure Text Analytics.\n",
    "\n",
    "    Parameters:\n",
    "    documents (str or DataFrame): The text documents to analyze. Can be a single string or a pandas DataFrame.\n",
    "    language_key (str): The Azure Text Analytics API key.\n",
    "    language_endpoint (str): The Azure Text Analytics API endpoint.\n",
    "\n",
    "    Returns:\n",
    "    list: A list of lists containing the sentiment analysis results. Each inner list contains:\n",
    "        - Document index (1-based)\n",
    "        - Document sentiment\n",
    "        - Document confidence scores (positive, neutral, negative)\n",
    "        - Sentence text\n",
    "        - Sentence sentiment\n",
    "        - Sentence confidence scores (positive, neutral, negative)\n",
    "        - Target text\n",
    "        - Target sentiment\n",
    "        - Target confidence scores (positive, negative)\n",
    "        - Assessment text\n",
    "        - Assessment sentiment\n",
    "        - Assessment confidence scores (positive, negative)\n",
    "    \"\"\"\n",
    "    # Check if documents is a string, list, or DataFrame\n",
    "    if isinstance(documents, str):\n",
    "        documents = [documents]\n",
    "    elif isinstance(documents, pd.DataFrame):\n",
    "        documents = documents.values.flatten().tolist()  # Convert df to list\n",
    "\n",
    "    # Authenticate the client using your key and endpoint \n",
    "    ta_credential = AzureKeyCredential(language_key)\n",
    "    client = TextAnalyticsClient(\n",
    "            endpoint=language_endpoint, \n",
    "            credential=ta_credential)\n",
    "\n",
    "    result = client.analyze_sentiment(documents, show_opinion_mining=True)\n",
    "    doc_result = [doc for doc in result if not doc.is_error]\n",
    "\n",
    "    data = []\n",
    "\n",
    "    for idx, document in enumerate(doc_result):\n",
    "        for sentence in document.sentences:\n",
    "            for mined_opinion in sentence.mined_opinions:\n",
    "                target = mined_opinion.target\n",
    "                for assessment in mined_opinion.assessments:\n",
    "                    data.append([\n",
    "                        idx + 1,  # 1-based index\n",
    "                        document.sentiment,\n",
    "                        document.confidence_scores.positive,\n",
    "                        document.confidence_scores.neutral,\n",
    "                        document.confidence_scores.negative,\n",
    "                        sentence.text,\n",
    "                        sentence.sentiment,\n",
    "                        sentence.confidence_scores.positive,\n",
    "                        sentence.confidence_scores.neutral,\n",
    "                        sentence.confidence_scores.negative,\n",
    "                        target.text,\n",
    "                        target.sentiment,\n",
    "                        target.confidence_scores.positive,\n",
    "                        target.confidence_scores.negative,\n",
    "                        assessment.text,\n",
    "                        assessment.sentiment,\n",
    "                        assessment.confidence_scores.positive,\n",
    "                        assessment.confidence_scores.negative\n",
    "                    ])\n",
    "    return data\n",
    "\n",
    "azure_sentiment(arg1, arg2, arg3)"
   ]
  },
  {
   "cell_type": "code",
   "execution_count": 11,
   "metadata": {},
   "outputs": [
    {
     "data": {
      "text/plain": [
       "'\\n    Analyzes sentiment and opinions in the provided documents using Azure Text Analytics.\\n\\n    Parameters:\\n    documents (str or DataFrame): The text documents to analyze. Can be a single string or a pandas DataFrame.\\n    language_key (str): The Azure Text Analytics API key.\\n    language_endpoint (str): The Azure Text Analytics API endpoint.\\n\\n    Returns:\\n    list: A list of lists containing the sentiment analysis results. Each inner list contains:\\n        - Document index (1-based)\\n        - Document sentiment\\n        - Document confidence scores (positive, neutral, negative)\\n        - Sentence text\\n        - Sentence sentiment\\n        - Sentence confidence scores (positive, neutral, negative)\\n        - Target text\\n        - Target sentiment\\n        - Target confidence scores (positive, negative)\\n        - Assessment text\\n        - Assessment sentiment\\n        - Assessment confidence scores (positive, negative)\\n    '"
      ]
     },
     "execution_count": 11,
     "metadata": {},
     "output_type": "execute_result"
    }
   ],
   "source": [
    "# Outputs docstring\n",
    "azure_sentiment.__doc__"
   ]
  },
  {
   "cell_type": "code",
   "execution_count": 12,
   "metadata": {
    "tags": [
     "headers"
    ]
   },
   "outputs": [
    {
     "data": {
      "text/plain": [
       "'[\"Documents(arg1)\", \"AzureKey(arg2)\", \"AzureURL(arg3)\", \"DocIndex\", \"DSent\", \"DPos\", \"DNeu\", \"DNeg\", \"Sentence\", \"SSent\", \"SPos\", \"SNeu\", \"SNeg\", \"Aspect\", \"ASent\", \"APos\", \"ANeg\", \"Opinion\", \"OSent\", \"OPos\", \"ONeg\"]'"
      ]
     },
     "execution_count": 12,
     "metadata": {},
     "output_type": "execute_result"
    }
   ],
   "source": [
    "# Column headers to use in demo workbook.\n",
    "headers = [\"Documents(arg1)\", \"AzureKey(arg2)\", \"AzureURL(arg3)\", \"DocIndex\", \"DSent\", \"DPos\", \"DNeu\", \"DNeg\", \"Sentence\", \"SSent\", \"SPos\", \"SNeu\", \"SNeg\", \"Aspect\", \"ASent\", \"APos\", \"ANeg\", \"Opinion\", \"OSent\", \"OPos\", \"ONeg\"]\n",
    "json.dumps(headers)"
   ]
  },
  {
   "cell_type": "raw",
   "metadata": {
    "tags": [
     "lambda"
    ],
    "vscode": {
     "languageId": "raw"
    }
   },
   "source": [
    "# AZURE.SENTIMENT\n",
    "\n",
    "=LAMBDA(documents,azureai_key,azureai_url,BOARDFLARE.RUNPY(\"text/sentiment/azure_sentiment.ipynb\",documents, azureai_key,azureai_url))\n"
   ]
  }
 ],
 "metadata": {
  "kernelspec": {
   "display_name": "venv",
   "language": "python",
   "name": "python3"
  },
  "language_info": {
   "codemirror_mode": {
    "name": "ipython",
    "version": 3
   },
   "file_extension": ".py",
   "mimetype": "text/x-python",
   "name": "python",
   "nbconvert_exporter": "python",
   "pygments_lexer": "ipython3",
   "version": "3.12.6"
  }
 },
 "nbformat": 4,
 "nbformat_minor": 2
}
