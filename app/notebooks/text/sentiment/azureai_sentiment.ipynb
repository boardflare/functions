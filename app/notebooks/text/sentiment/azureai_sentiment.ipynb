{
 "cells": [
  {
   "cell_type": "markdown",
   "metadata": {
    "tags": [
     "description"
    ]
   },
   "source": [
    "# Azure AI Sentiment Analysis\n",
    "\n",
    "## Overview\n",
    "\n",
    "This notebook demonstrates how to use the Azure AI Text Analytics service to perform sentiment analysis on a dataset of tweets. The dataset is a collection of tweets about the COVID-19 vaccine. The goal is to determine the sentiment of each tweet as positive, negative, or neutral.\n",
    "\n",
    "## Compatibility\n",
    "BOARDFLARE.RUNPY ✅  \n",
    "Python in Excel ❌\n",
    "\n",
    "## Demo Workbook\n",
    "\n",
    "See this [workbook](https://whistlernetworks.sharepoint.com/:x:/s/Boardflare/Eb_nCI4mR6tImGx_S1hPVs8B4UYmrJRrkk0_Grai6A4adg?e=xfUuNQ) for demos of all fuzzy matching functions.\n",
    "\n",
    "## Python\n",
    "\n",
    "### RUNPY\n",
    "\n",
    "`azureai_sentiment` analyzes sentiment and opinions in the provided documents using Azure Text Analytics. It returns a list of lists containing the sentiment analysis results.\n",
    "\n",
    "```excel\n",
    "=BOARDFLARE.RUNPY(\"text/sentiment/azure_absa.ipynb\", documents, azureai_key, azureai_url)\n",
    "```\n",
    "\n",
    "| Argument      | Positional | Type           | Description                                                                 |\n",
    "|---------------|------------|----------------|-----------------------------------------------------------------------------|\n",
    "| `documents`   | arg1       | string or list | The text documents to analyze. Can be a single string or a pandas DataFrame.|\n",
    "| `azureai_key` | arg2       | string         | The Azure AI API key. e.g. 7920c673894d49d292de11a80d16572                  |\n",
    "| `azureai_url` | arg3       | string         | The Azure AI API endpoint (e.g. https://boardflare.openai.azure.com/)       |\n",
    "\n",
    "Returns a list of lists containing the sentiment analysis results. Each inner list contains:\n",
    "\n",
    "| Return Value     | Type  | Description                                                                                  |\n",
    "|------------------|-------|----------------------------------------------------------------------------------------------|\n",
    "| DocIndex         | int   | Document index (1-based).                                                                    |\n",
    "| DSent            | string| Document sentiment.                                                                          |\n",
    "| DPos             | float | Document confidence score (positive).                                                        |\n",
    "| DNeu             | float | Document confidence score (neutral).                                                         |\n",
    "| DNeg             | float | Document confidence score (negative).                                                        |\n",
    "| Sentence         | string| Sentence text.                                                                               |\n",
    "| SSent            | string| Sentence sentiment.                                                                          |\n",
    "| SPos             | float | Sentence confidence score (positive).                                                        |\n",
    "| SNeu             | float | Sentence confidence score (neutral).                                                         |\n",
    "| SNeg             | float | Sentence confidence score (negative).                                                       |\n",
    "| Aspect           | string| Target text.                                                                                 |\n",
    "| ASent            | string| Target sentiment.                                                                            |\n",
    "| APos             | float | Target confidence score (positive).                                                          |\n",
    "| ANeg             | float | Target confidence score (negative).                                                          |\n",
    "| Opinion          | string| Assessment text.                                                                             |\n",
    "| OSent            | string| Assessment sentiment.                                                                        |\n",
    "| OPos             | float | Assessment confidence score (positive).                                                      |\n",
    "| ONeg             | float | Assessment confidence score (negative).                                                      |\n",
    "\n",
    "For example, to analyze the sentiment of a list of documents using your Azure AI key and endpoint, you would use the following formula:\n",
    "\n",
    "```excel\n",
    "=BOARDFLARE.RUNPY(\"text/sentiment/azure_absa.ipynb\", A1:A10, \"your_azureai_key\", \"your_azureai_url\")\n",
    "```\n",
    "\n",
    "## LAMBDA\n",
    "\n",
    "### AZUREAI.SENTIMENT\n",
    "\n",
    "User-friendly named LAMBDA in which you could hard code the azureai_key and azureai_url to further simplify its use.\n",
    "\n",
    "```excel\n",
    "=LAMBDA(documents, azureai_key, azureai_url,\n",
    "    BOARDFLARE.RUNPY(\"text/sentiment/azure_absa.ipynb\", documents, azureai_key, azureai_url)\n",
    ")\n",
    "```\n",
    "\n",
    "For example, to analyze the sentiment of a list of documents using your Azure AI key and endpoint, you would use the following formula:\n",
    "```excel\n",
    "=AZUREAI.SENTIMENT(A1, B1:B10, 0.8)\n",
    "```"
   ]
  },
  {
   "cell_type": "code",
   "execution_count": 2,
   "metadata": {},
   "outputs": [
    {
     "name": "stdout",
     "output_type": "stream",
     "text": [
      "Requirement already satisfied: micropip in c:\\users\\brent\\code\\functions\\venv\\lib\\site-packages (0.6.1)\n",
      "Requirement already satisfied: packaging>=23.0 in c:\\users\\brent\\code\\functions\\venv\\lib\\site-packages (from micropip) (24.1)\n",
      "Note: you may need to restart the kernel to use updated packages.\n"
     ]
    }
   ],
   "source": [
    "%pip install micropip\n",
    "import micropip\n",
    "import pandas as pd\n",
    "import json"
   ]
  },
  {
   "cell_type": "code",
   "execution_count": null,
   "metadata": {
    "tags": [
     "arg1"
    ]
   },
   "outputs": [
    {
     "data": {
      "text/plain": [
       "'[[\"The food and service were unacceptable. The concierge was nice, however.\"], [\"The rooms were clean and well maintained.\"], [\"The location is perfect but the staff was rude.\"]]'"
      ]
     },
     "execution_count": 3,
     "metadata": {},
     "output_type": "execute_result"
    }
   ],
   "source": [
    "# arg1: Documents to analyze (column array)\n",
    "arg1 = pd.DataFrame([\n",
    "    \"The food and service were unacceptable. The concierge was nice, however.\",\n",
    "    \"The rooms were clean and well maintained.\",\n",
    "    \"The location is perfect but the staff was rude.\",\n",
    "    \"The breakfast was delicious but the coffee was too strong.\",\n",
    "    \"The Wi-Fi was fast and reliable, but the room was too small.\",\n",
    "    \"The gym facilities were excellent, but the pool was dirty.\",\n",
    "    \"The check-in process was smooth, but the checkout was slow.\",\n",
    "    \"The bed was comfortable, but the pillows were too soft.\",\n",
    "    \"The air conditioning worked well, but it was noisy.\",\n",
    "    \"The parking was convenient, but it was expensive.\"\n",
    "])\n",
    "\n",
    "# arg1: Documents to analyze (single string)\n",
    "# arg1 = \"The food and service were unacceptable. The concierge was nice, however.\"\n",
    "\n",
    "# output arg1 as column vector\n",
    "json.dumps([[x] for x in arg1[0].values.tolist()])"
   ]
  },
  {
   "cell_type": "code",
   "execution_count": null,
   "metadata": {
    "tags": [
     "arg2"
    ]
   },
   "outputs": [
    {
     "data": {
      "text/plain": [
       "'7920c673894d49d292de11a80d165725'"
      ]
     },
     "execution_count": 4,
     "metadata": {},
     "output_type": "execute_result"
    }
   ],
   "source": [
    "# arg2: Azure language api key\n",
    "arg2 = '7920c673894d49d292de11a80d165725'\n",
    "arg2"
   ]
  },
  {
   "cell_type": "code",
   "execution_count": null,
   "metadata": {
    "tags": [
     "arg3"
    ]
   },
   "outputs": [
    {
     "data": {
      "text/plain": [
       "'https://boardflare.openai.azure.com/'"
      ]
     },
     "execution_count": 5,
     "metadata": {},
     "output_type": "execute_result"
    }
   ],
   "source": [
    "# arg3: Azure language api endpoint\n",
    "arg3 = 'https://boardflare.openai.azure.com/'\n",
    "arg3"
   ]
  },
  {
   "cell_type": "code",
   "execution_count": null,
   "metadata": {
    "tags": [
     "function"
    ]
   },
   "outputs": [
    {
     "data": {
      "text/plain": [
       "[[1,\n",
       "  'mixed',\n",
       "  0.3,\n",
       "  0.17,\n",
       "  0.52,\n",
       "  'The food and service were unacceptable. ',\n",
       "  'negative',\n",
       "  0.0,\n",
       "  0.0,\n",
       "  1.0,\n",
       "  'food',\n",
       "  'negative',\n",
       "  0.01,\n",
       "  0.99,\n",
       "  'unacceptable',\n",
       "  'negative',\n",
       "  0.01,\n",
       "  0.99],\n",
       " [1,\n",
       "  'mixed',\n",
       "  0.3,\n",
       "  0.17,\n",
       "  0.52,\n",
       "  'The food and service were unacceptable. ',\n",
       "  'negative',\n",
       "  0.0,\n",
       "  0.0,\n",
       "  1.0,\n",
       "  'service',\n",
       "  'negative',\n",
       "  0.01,\n",
       "  0.99,\n",
       "  'unacceptable',\n",
       "  'negative',\n",
       "  0.01,\n",
       "  0.99],\n",
       " [1,\n",
       "  'mixed',\n",
       "  0.3,\n",
       "  0.17,\n",
       "  0.52,\n",
       "  'The concierge was nice, however.',\n",
       "  'positive',\n",
       "  0.61,\n",
       "  0.35,\n",
       "  0.05,\n",
       "  'concierge',\n",
       "  'positive',\n",
       "  1.0,\n",
       "  0.0,\n",
       "  'nice',\n",
       "  'positive',\n",
       "  1.0,\n",
       "  0.0],\n",
       " [2,\n",
       "  'positive',\n",
       "  0.86,\n",
       "  0.14,\n",
       "  0.0,\n",
       "  'The rooms were clean and well maintained.',\n",
       "  'positive',\n",
       "  0.86,\n",
       "  0.14,\n",
       "  0.0,\n",
       "  'rooms',\n",
       "  'positive',\n",
       "  1.0,\n",
       "  0.0,\n",
       "  'clean',\n",
       "  'positive',\n",
       "  1.0,\n",
       "  0.0],\n",
       " [2,\n",
       "  'positive',\n",
       "  0.86,\n",
       "  0.14,\n",
       "  0.0,\n",
       "  'The rooms were clean and well maintained.',\n",
       "  'positive',\n",
       "  0.86,\n",
       "  0.14,\n",
       "  0.0,\n",
       "  'rooms',\n",
       "  'positive',\n",
       "  1.0,\n",
       "  0.0,\n",
       "  'well maintained',\n",
       "  'positive',\n",
       "  1.0,\n",
       "  0.0],\n",
       " [3,\n",
       "  'negative',\n",
       "  0.0,\n",
       "  0.0,\n",
       "  1.0,\n",
       "  'The location is perfect but the staff was rude.',\n",
       "  'negative',\n",
       "  0.0,\n",
       "  0.0,\n",
       "  1.0,\n",
       "  'location',\n",
       "  'positive',\n",
       "  1.0,\n",
       "  0.0,\n",
       "  'perfect',\n",
       "  'positive',\n",
       "  1.0,\n",
       "  0.0],\n",
       " [3,\n",
       "  'negative',\n",
       "  0.0,\n",
       "  0.0,\n",
       "  1.0,\n",
       "  'The location is perfect but the staff was rude.',\n",
       "  'negative',\n",
       "  0.0,\n",
       "  0.0,\n",
       "  1.0,\n",
       "  'staff',\n",
       "  'negative',\n",
       "  0.03,\n",
       "  0.97,\n",
       "  'rude',\n",
       "  'negative',\n",
       "  0.03,\n",
       "  0.97]]"
      ]
     },
     "execution_count": 6,
     "metadata": {},
     "output_type": "execute_result"
    }
   ],
   "source": [
    "await micropip.install([\"azure-ai-textanalytics\"])\n",
    "from azure.ai.textanalytics import TextAnalyticsClient\n",
    "from azure.core.credentials import AzureKeyCredential\n",
    "\n",
    "# Example method for detecting sentiment and opinions in text \n",
    "def azureai_sentiment(documents, language_key, language_endpoint):\n",
    "    \"\"\"\n",
    "    Analyzes sentiment and opinions in the provided documents using Azure Text Analytics.\n",
    "\n",
    "    Parameters:\n",
    "    documents (str or DataFrame): The text documents to analyze. Can be a single string or a pandas DataFrame.\n",
    "    language_key (str): The Azure Text Analytics API key.\n",
    "    language_endpoint (str): The Azure Text Analytics API endpoint.\n",
    "\n",
    "    Returns:\n",
    "    list: A list of lists containing the sentiment analysis results. Each inner list contains:\n",
    "        - Document index (1-based)\n",
    "        - Document sentiment\n",
    "        - Document confidence scores (positive, neutral, negative)\n",
    "        - Sentence text\n",
    "        - Sentence sentiment\n",
    "        - Sentence confidence scores (positive, neutral, negative)\n",
    "        - Target text\n",
    "        - Target sentiment\n",
    "        - Target confidence scores (positive, negative)\n",
    "        - Assessment text\n",
    "        - Assessment sentiment\n",
    "        - Assessment confidence scores (positive, negative)\n",
    "    \"\"\"\n",
    "    # Check if documents is a string, list, or DataFrame\n",
    "    if isinstance(documents, str):\n",
    "        documents = [documents]\n",
    "    elif isinstance(documents, pd.DataFrame):\n",
    "        documents = documents.values.flatten().tolist()  # Convert df to list\n",
    "\n",
    "    # Authenticate the client using your key and endpoint \n",
    "    ta_credential = AzureKeyCredential(language_key)\n",
    "    client = TextAnalyticsClient(\n",
    "            endpoint=language_endpoint, \n",
    "            credential=ta_credential)\n",
    "\n",
    "    result = client.analyze_sentiment(documents, show_opinion_mining=True)\n",
    "    doc_result = [doc for doc in result if not doc.is_error]\n",
    "\n",
    "    data = []\n",
    "\n",
    "    for idx, document in enumerate(doc_result):\n",
    "        for sentence in document.sentences:\n",
    "            for mined_opinion in sentence.mined_opinions:\n",
    "                target = mined_opinion.target\n",
    "                for assessment in mined_opinion.assessments:\n",
    "                    data.append([\n",
    "                        idx + 1,  # 1-based index\n",
    "                        document.sentiment,\n",
    "                        document.confidence_scores.positive,\n",
    "                        document.confidence_scores.neutral,\n",
    "                        document.confidence_scores.negative,\n",
    "                        sentence.text,\n",
    "                        sentence.sentiment,\n",
    "                        sentence.confidence_scores.positive,\n",
    "                        sentence.confidence_scores.neutral,\n",
    "                        sentence.confidence_scores.negative,\n",
    "                        target.text,\n",
    "                        target.sentiment,\n",
    "                        target.confidence_scores.positive,\n",
    "                        target.confidence_scores.negative,\n",
    "                        assessment.text,\n",
    "                        assessment.sentiment,\n",
    "                        assessment.confidence_scores.positive,\n",
    "                        assessment.confidence_scores.negative\n",
    "                    ])\n",
    "    return data\n",
    "\n",
    "azureai_sentiment(arg1, arg2, arg3)"
   ]
  },
  {
   "cell_type": "code",
   "execution_count": null,
   "metadata": {},
   "outputs": [
    {
     "data": {
      "text/plain": [
       "'\\n    Analyzes sentiment and opinions in the provided documents using Azure Text Analytics.\\n\\n    Parameters:\\n    documents (str or DataFrame): The text documents to analyze. Can be a single string or a pandas DataFrame.\\n    language_key (str): The Azure Text Analytics API key.\\n    language_endpoint (str): The Azure Text Analytics API endpoint.\\n\\n    Returns:\\n    list: A list of lists containing the sentiment analysis results. Each inner list contains:\\n        - Document index (1-based)\\n        - Document sentiment\\n        - Document confidence scores (positive, neutral, negative)\\n        - Sentence text\\n        - Sentence sentiment\\n        - Sentence confidence scores (positive, neutral, negative)\\n        - Target text\\n        - Target sentiment\\n        - Target confidence scores (positive, negative)\\n        - Assessment text\\n        - Assessment sentiment\\n        - Assessment confidence scores (positive, negative)\\n    '"
      ]
     },
     "execution_count": 7,
     "metadata": {},
     "output_type": "execute_result"
    }
   ],
   "source": [
    "# Outputs docstring\n",
    "azureai_sentiment.__doc__"
   ]
  },
  {
   "cell_type": "code",
   "execution_count": null,
   "metadata": {
    "tags": [
     "headers"
    ]
   },
   "outputs": [
    {
     "data": {
      "text/plain": [
       "'[\"Documents(arg1)\", \"AzureKey(arg2)\", \"AzureURL(arg3)\", \"DocIndex\", \"DSent\", \"DPos\", \"DNeu\", \"DNeg\", \"Sentence\", \"SSent\", \"SPos\", \"SNeu\", \"SNeg\", \"Aspect\", \"ASent\", \"APos\", \"ANeg\", \"Opinion\", \"OSent\", \"OPos\", \"ONeg\"]'"
      ]
     },
     "execution_count": 11,
     "metadata": {},
     "output_type": "execute_result"
    }
   ],
   "source": [
    "# Column headers to use in demo workbook.\n",
    "headers = [\"Documents(arg1)\", \"AzureKey(arg2)\", \"AzureURL(arg3)\", \"DocIndex\", \"DSent\", \"DPos\", \"DNeu\", \"DNeg\", \"Sentence\", \"SSent\", \"SPos\", \"SNeu\", \"SNeg\", \"Aspect\", \"ASent\", \"APos\", \"ANeg\", \"Opinion\", \"OSent\", \"OPos\", \"ONeg\"]\n",
    "json.dumps(headers)"
   ]
  },
  {
   "cell_type": "raw",
   "metadata": {
    "tags": [
     "lambda"
    ],
    "vscode": {
     "languageId": "raw"
    }
   },
   "source": [
    "# AZUREAI.SENTIMENT\n",
    "\n",
    "=LAMBDA(documents,azureai_key,azureai_url,BOARDFLARE.RUNPY(\"text/sentiment/azure_absa.ipynb\",documents, azureai_key,azureai_url))\n"
   ]
  }
 ],
 "metadata": {
  "kernelspec": {
   "display_name": "venv",
   "language": "python",
   "name": "python3"
  },
  "language_info": {
   "codemirror_mode": {
    "name": "ipython",
    "version": 3
   },
   "file_extension": ".py",
   "mimetype": "text/x-python",
   "name": "python",
   "nbconvert_exporter": "python",
   "pygments_lexer": "ipython3",
   "version": "3.12.6"
  }
 },
 "nbformat": 4,
 "nbformat_minor": 2
}
