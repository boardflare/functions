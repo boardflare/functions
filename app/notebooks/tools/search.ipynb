{
 "cells": [
  {
   "cell_type": "code",
   "execution_count": null,
   "metadata": {},
   "outputs": [],
   "source": [
    "import json\n",
    "from typing import List\n",
    "import requests\n",
    "\n",
    "def brave_search(api_key: str, query: str, search_kwargs: dict = {}) -> List[List[str]]:\n",
    "    base_url = \"https://api.search.brave.com/res/v1/web/search\"\n",
    "    \n",
    "    def _search_request(query: str) -> List[dict]:\n",
    "        headers = {\n",
    "            \"X-Subscription-Token\": api_key,\n",
    "            \"Accept\": \"application/json\",\n",
    "        }\n",
    "        req = requests.PreparedRequest()\n",
    "        params = {**search_kwargs, **{\"q\": query, \"extra_snippets\": True}}\n",
    "        req.prepare_url(base_url, params)\n",
    "        if req.url is None:\n",
    "            raise ValueError(\"prepared url is None, this should not happen\")\n",
    "\n",
    "        response = requests.get(req.url, headers=headers)\n",
    "        if not response.ok:\n",
    "            raise Exception(f\"HTTP error {response.status_code}\")\n",
    "\n",
    "        return response.json().get(\"web\", {}).get(\"results\", [])\n",
    "\n",
    "    web_search_results = _search_request(query=query)\n",
    "    final_results = [\n",
    "        [\n",
    "            \" \".join(\n",
    "                filter(\n",
    "                    None, [item.get(\"description\"), *item.get(\"extra_snippets\", [])]\n",
    "                )\n",
    "            ),\n",
    "            item.get(\"title\"),\n",
    "            item.get(\"url\"),\n",
    "        ]\n",
    "        for item in web_search_results\n",
    "    ]\n",
    "    return final_results\n",
    "\n",
    "# Example usage:\n",
    "api_key = \"your_api_key_here\"\n",
    "query = \"example search\"\n",
    "results = brave_search(api_key, query)\n",
    "\n",
    "for result in results:\n",
    "    print(f\"Page Content: {result[0]}\")\n",
    "    print(f\"Title: {result[1]}\")\n",
    "    print(f\"Link: {result[2]}\")\n",
    "    print()"
   ]
  }
 ],
 "metadata": {
  "language_info": {
   "name": "python"
  }
 },
 "nbformat": 4,
 "nbformat_minor": 2
}
